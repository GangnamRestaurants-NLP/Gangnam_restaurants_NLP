{
 "cells": [
  {
   "cell_type": "code",
   "execution_count": 1,
   "id": "265f2f0c",
   "metadata": {},
   "outputs": [],
   "source": [
    "import pandas as pd"
   ]
  },
  {
   "cell_type": "code",
   "execution_count": 2,
   "id": "453f5f2f",
   "metadata": {},
   "outputs": [
    {
     "data": {
      "text/html": [
       "<div>\n",
       "<style scoped>\n",
       "    .dataframe tbody tr th:only-of-type {\n",
       "        vertical-align: middle;\n",
       "    }\n",
       "\n",
       "    .dataframe tbody tr th {\n",
       "        vertical-align: top;\n",
       "    }\n",
       "\n",
       "    .dataframe thead th {\n",
       "        text-align: right;\n",
       "    }\n",
       "</style>\n",
       "<table border=\"1\" class=\"dataframe\">\n",
       "  <thead>\n",
       "    <tr style=\"text-align: right;\">\n",
       "      <th></th>\n",
       "      <th>Store_name</th>\n",
       "      <th>Date</th>\n",
       "      <th>Review</th>\n",
       "      <th>Photo</th>\n",
       "    </tr>\n",
       "  </thead>\n",
       "  <tbody>\n",
       "    <tr>\n",
       "      <th>0</th>\n",
       "      <td>백억하누 강남본점</td>\n",
       "      <td>22.1.11</td>\n",
       "      <td>너무 이쁘고 깔끔하게 잘 해놨네요 웃음 고기도 너무 맛있습니다</td>\n",
       "      <td>1.0</td>\n",
       "    </tr>\n",
       "    <tr>\n",
       "      <th>1</th>\n",
       "      <td>백억하누 강남본점</td>\n",
       "      <td>22.1.11</td>\n",
       "      <td>소고기 너무 맛나요~하트 인테리어, 분위기 좋네요</td>\n",
       "      <td>1.0</td>\n",
       "    </tr>\n",
       "    <tr>\n",
       "      <th>2</th>\n",
       "      <td>백억하누 강남본점</td>\n",
       "      <td>22.1.11</td>\n",
       "      <td>코시국에 룸이 있어 좋습니다</td>\n",
       "      <td>0.0</td>\n",
       "    </tr>\n",
       "    <tr>\n",
       "      <th>3</th>\n",
       "      <td>백억하누 강남본점</td>\n",
       "      <td>22.1.11</td>\n",
       "      <td>오늘 저녁은~~투뿔한우로!!! 찐 맛집입니다 웃음</td>\n",
       "      <td>1.0</td>\n",
       "    </tr>\n",
       "    <tr>\n",
       "      <th>4</th>\n",
       "      <td>백억하누 강남본점</td>\n",
       "      <td>22.1.11</td>\n",
       "      <td>룸이 겸비해서 있어 코로나로 부터 안전하게 먹을 수 있어 만족합니다</td>\n",
       "      <td>0.0</td>\n",
       "    </tr>\n",
       "  </tbody>\n",
       "</table>\n",
       "</div>"
      ],
      "text/plain": [
       "  Store_name     Date                                 Review  Photo\n",
       "0  백억하누 강남본점  22.1.11     너무 이쁘고 깔끔하게 잘 해놨네요 웃음 고기도 너무 맛있습니다    1.0\n",
       "1  백억하누 강남본점  22.1.11            소고기 너무 맛나요~하트 인테리어, 분위기 좋네요    1.0\n",
       "2  백억하누 강남본점  22.1.11                        코시국에 룸이 있어 좋습니다    0.0\n",
       "3  백억하누 강남본점  22.1.11            오늘 저녁은~~투뿔한우로!!! 찐 맛집입니다 웃음    1.0\n",
       "4  백억하누 강남본점  22.1.11  룸이 겸비해서 있어 코로나로 부터 안전하게 먹을 수 있어 만족합니다    0.0"
      ]
     },
     "execution_count": 2,
     "metadata": {},
     "output_type": "execute_result"
    }
   ],
   "source": [
    "data = pd.read_csv('./company_dinner_raw_data.csv')\n",
    "data.head()"
   ]
  },
  {
   "cell_type": "code",
   "execution_count": 3,
   "id": "0a68cd36",
   "metadata": {},
   "outputs": [
    {
     "name": "stdout",
     "output_type": "stream",
     "text": [
      "<class 'pandas.core.frame.DataFrame'>\n",
      "RangeIndex: 8951 entries, 0 to 8950\n",
      "Data columns (total 4 columns):\n",
      " #   Column      Non-Null Count  Dtype  \n",
      "---  ------      --------------  -----  \n",
      " 0   Store_name  8951 non-null   object \n",
      " 1   Date        8951 non-null   object \n",
      " 2   Review      8798 non-null   object \n",
      " 3   Photo       8938 non-null   float64\n",
      "dtypes: float64(1), object(3)\n",
      "memory usage: 279.8+ KB\n"
     ]
    }
   ],
   "source": [
    "data.info()"
   ]
  },
  {
   "cell_type": "code",
   "execution_count": null,
   "id": "878c773d",
   "metadata": {},
   "outputs": [],
   "source": []
  }
 ],
 "metadata": {
  "kernelspec": {
   "display_name": "Python 3 (ipykernel)",
   "language": "python",
   "name": "python3"
  },
  "language_info": {
   "codemirror_mode": {
    "name": "ipython",
    "version": 3
   },
   "file_extension": ".py",
   "mimetype": "text/x-python",
   "name": "python",
   "nbconvert_exporter": "python",
   "pygments_lexer": "ipython3",
   "version": "3.8.12"
  }
 },
 "nbformat": 4,
 "nbformat_minor": 5
}
