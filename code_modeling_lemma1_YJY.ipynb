{
  "nbformat": 4,
  "nbformat_minor": 0,
  "metadata": {
    "colab": {
      "name": "code_modeling_lemma1_YJY",
      "provenance": [],
      "collapsed_sections": [],
      "machine_shape": "hm",
      "toc_visible": true
    },
    "kernelspec": {
      "name": "python3",
      "display_name": "Python 3"
    },
    "language_info": {
      "name": "python"
    },
    "gpuClass": "standard",
    "accelerator": "GPU"
  },
  "cells": [
    {
      "cell_type": "markdown",
      "source": [
        "## 모델링"
      ],
      "metadata": {
        "id": "OFKm6HUIPQM8"
      }
    },
    {
      "cell_type": "code",
      "source": [
        "#한글 깨짐 -> 설치 후 런타임 다시 시작 필요!\n",
        "!sudo apt-get install -y fonts-nanum\n",
        "!sudo fc-cache -fv\n",
        "!rm ~/.cache/matplotlib -rf"
      ],
      "metadata": {
        "colab": {
          "base_uri": "https://localhost:8080/"
        },
        "id": "toetZlNKXqGt",
        "outputId": "f5dc4e94-2394-4089-b4e7-c959257f113b"
      },
      "execution_count": null,
      "outputs": [
        {
          "output_type": "stream",
          "name": "stdout",
          "text": [
            "Reading package lists... Done\n",
            "Building dependency tree       \n",
            "Reading state information... Done\n",
            "fonts-nanum is already the newest version (20170925-1).\n",
            "The following package was automatically installed and is no longer required:\n",
            "  libnvidia-common-460\n",
            "Use 'sudo apt autoremove' to remove it.\n",
            "0 upgraded, 0 newly installed, 0 to remove and 4 not upgraded.\n",
            "/usr/share/fonts: caching, new cache contents: 0 fonts, 1 dirs\n",
            "/usr/share/fonts/truetype: caching, new cache contents: 0 fonts, 4 dirs\n",
            "/usr/share/fonts/truetype/dejavu: caching, new cache contents: 22 fonts, 0 dirs\n",
            "/usr/share/fonts/truetype/humor-sans: caching, new cache contents: 1 fonts, 0 dirs\n",
            "/usr/share/fonts/truetype/liberation: caching, new cache contents: 16 fonts, 0 dirs\n",
            "/usr/share/fonts/truetype/nanum: caching, new cache contents: 10 fonts, 0 dirs\n",
            "/usr/local/share/fonts: caching, new cache contents: 0 fonts, 0 dirs\n",
            "/root/.local/share/fonts: skipping, no such directory\n",
            "/root/.fonts: skipping, no such directory\n",
            "/var/cache/fontconfig: cleaning cache directory\n",
            "/root/.cache/fontconfig: not cleaning non-existent cache directory\n",
            "/root/.fontconfig: not cleaning non-existent cache directory\n",
            "fc-cache: succeeded\n"
          ]
        }
      ]
    },
    {
      "cell_type": "code",
      "source": [
        "# MeCab, nltk 설치\n",
        "!pip install nltk\n",
        "!curl -s https://raw.githubusercontent.com/teddylee777/machine-learning/master/99-Misc/01-Colab/mecab-colab.sh | bash"
      ],
      "metadata": {
        "colab": {
          "base_uri": "https://localhost:8080/"
        },
        "id": "DHHsXhzmYl69",
        "outputId": "b2cc12bb-3fdd-4201-8c50-0637e2eaa9fa"
      },
      "execution_count": null,
      "outputs": [
        {
          "output_type": "stream",
          "name": "stdout",
          "text": [
            "Looking in indexes: https://pypi.org/simple, https://us-python.pkg.dev/colab-wheels/public/simple/\n",
            "Requirement already satisfied: nltk in /usr/local/lib/python3.7/dist-packages (3.7)\n",
            "Requirement already satisfied: joblib in /usr/local/lib/python3.7/dist-packages (from nltk) (1.1.0)\n",
            "Requirement already satisfied: click in /usr/local/lib/python3.7/dist-packages (from nltk) (7.1.2)\n",
            "Requirement already satisfied: tqdm in /usr/local/lib/python3.7/dist-packages (from nltk) (4.64.0)\n",
            "Requirement already satisfied: regex>=2021.8.3 in /usr/local/lib/python3.7/dist-packages (from nltk) (2022.6.2)\n",
            "--2022-08-27 11:31:32--  https://www.dropbox.com/s/9xls0tgtf3edgns/mecab-0.996-ko-0.9.2.tar.gz?dl=1\n",
            "Resolving www.dropbox.com (www.dropbox.com)... 162.125.3.18, 2620:100:6018:18::a27d:312\n",
            "Connecting to www.dropbox.com (www.dropbox.com)|162.125.3.18|:443... connected.\n",
            "HTTP request sent, awaiting response... 301 Moved Permanently\n",
            "Location: /s/dl/9xls0tgtf3edgns/mecab-0.996-ko-0.9.2.tar.gz [following]\n",
            "--2022-08-27 11:31:32--  https://www.dropbox.com/s/dl/9xls0tgtf3edgns/mecab-0.996-ko-0.9.2.tar.gz\n",
            "Reusing existing connection to www.dropbox.com:443.\n",
            "HTTP request sent, awaiting response... 302 Found\n",
            "Location: https://uc6c99f478b813a44949304c269f.dl.dropboxusercontent.com/cd/0/get/BrzKNy2q2VG5HVu7-6KxSuKSmRV27iZe1F9hmGMjJYh-CCcFXtmai-EsYhdzhp88TzpU0Dwy9xbdG-DlbWO9XGMNY_i0eIAYVxHmmQODdJV8EHZqpQPkoq84PhhAU-l5Qy7wd3_f4Ouiw4GlJMngfL1cdnILTT72t1DCTTnVgdu1j1zG7XjUk0jR8EVO-EFu_xE/file?dl=1# [following]\n",
            "--2022-08-27 11:31:33--  https://uc6c99f478b813a44949304c269f.dl.dropboxusercontent.com/cd/0/get/BrzKNy2q2VG5HVu7-6KxSuKSmRV27iZe1F9hmGMjJYh-CCcFXtmai-EsYhdzhp88TzpU0Dwy9xbdG-DlbWO9XGMNY_i0eIAYVxHmmQODdJV8EHZqpQPkoq84PhhAU-l5Qy7wd3_f4Ouiw4GlJMngfL1cdnILTT72t1DCTTnVgdu1j1zG7XjUk0jR8EVO-EFu_xE/file?dl=1\n",
            "Resolving uc6c99f478b813a44949304c269f.dl.dropboxusercontent.com (uc6c99f478b813a44949304c269f.dl.dropboxusercontent.com)... 162.125.3.15, 2620:100:6018:15::a27d:30f\n",
            "Connecting to uc6c99f478b813a44949304c269f.dl.dropboxusercontent.com (uc6c99f478b813a44949304c269f.dl.dropboxusercontent.com)|162.125.3.15|:443... connected.\n",
            "HTTP request sent, awaiting response... 200 OK\n",
            "Length: 1414979 (1.3M) [application/binary]\n",
            "Saving to: ‘mecab-0.996-ko-0.9.2.tar.gz?dl=1’\n",
            "\n",
            "mecab-0.996-ko-0.9. 100%[===================>]   1.35M  --.-KB/s    in 0.06s   \n",
            "\n",
            "2022-08-27 11:31:33 (21.3 MB/s) - ‘mecab-0.996-ko-0.9.2.tar.gz?dl=1’ saved [1414979/1414979]\n",
            "\n",
            "mecab-0.996-ko-0.9.2/\n",
            "mecab-0.996-ko-0.9.2/example/\n",
            "mecab-0.996-ko-0.9.2/example/example.cpp\n",
            "mecab-0.996-ko-0.9.2/example/example_lattice.cpp\n",
            "mecab-0.996-ko-0.9.2/example/example_lattice.c\n",
            "mecab-0.996-ko-0.9.2/example/example.c\n",
            "mecab-0.996-ko-0.9.2/example/thread_test.cpp\n",
            "mecab-0.996-ko-0.9.2/mecab-config.in\n",
            "mecab-0.996-ko-0.9.2/man/\n",
            "mecab-0.996-ko-0.9.2/man/Makefile.am\n",
            "mecab-0.996-ko-0.9.2/man/mecab.1\n",
            "mecab-0.996-ko-0.9.2/man/Makefile.in\n",
            "mecab-0.996-ko-0.9.2/mecab.iss.in\n",
            "mecab-0.996-ko-0.9.2/config.guess\n",
            "mecab-0.996-ko-0.9.2/README\n",
            "mecab-0.996-ko-0.9.2/COPYING\n",
            "mecab-0.996-ko-0.9.2/CHANGES.md\n",
            "mecab-0.996-ko-0.9.2/README.md\n",
            "mecab-0.996-ko-0.9.2/INSTALL\n",
            "mecab-0.996-ko-0.9.2/config.sub\n",
            "mecab-0.996-ko-0.9.2/configure.in\n",
            "mecab-0.996-ko-0.9.2/swig/\n",
            "mecab-0.996-ko-0.9.2/swig/Makefile\n",
            "mecab-0.996-ko-0.9.2/swig/version.h.in\n",
            "mecab-0.996-ko-0.9.2/swig/version.h\n",
            "mecab-0.996-ko-0.9.2/swig/MeCab.i\n",
            "mecab-0.996-ko-0.9.2/aclocal.m4\n",
            "mecab-0.996-ko-0.9.2/LGPL\n",
            "mecab-0.996-ko-0.9.2/Makefile.am\n",
            "mecab-0.996-ko-0.9.2/configure\n",
            "mecab-0.996-ko-0.9.2/tests/\n",
            "mecab-0.996-ko-0.9.2/tests/autolink/\n",
            "mecab-0.996-ko-0.9.2/tests/autolink/unk.def\n",
            "mecab-0.996-ko-0.9.2/tests/autolink/dicrc\n",
            "mecab-0.996-ko-0.9.2/tests/autolink/dic.csv\n",
            "mecab-0.996-ko-0.9.2/tests/autolink/test\n",
            "mecab-0.996-ko-0.9.2/tests/autolink/char.def\n",
            "mecab-0.996-ko-0.9.2/tests/autolink/matrix.def\n",
            "mecab-0.996-ko-0.9.2/tests/autolink/test.gld\n",
            "mecab-0.996-ko-0.9.2/tests/t9/\n",
            "mecab-0.996-ko-0.9.2/tests/t9/unk.def\n",
            "mecab-0.996-ko-0.9.2/tests/t9/ipadic.pl\n",
            "mecab-0.996-ko-0.9.2/tests/t9/dicrc\n",
            "mecab-0.996-ko-0.9.2/tests/t9/dic.csv\n",
            "mecab-0.996-ko-0.9.2/tests/t9/test\n",
            "mecab-0.996-ko-0.9.2/tests/t9/char.def\n",
            "mecab-0.996-ko-0.9.2/tests/t9/matrix.def\n",
            "mecab-0.996-ko-0.9.2/tests/t9/mkdic.pl\n",
            "mecab-0.996-ko-0.9.2/tests/t9/test.gld\n",
            "mecab-0.996-ko-0.9.2/tests/cost-train/\n",
            "mecab-0.996-ko-0.9.2/tests/cost-train/ipa.train\n",
            "mecab-0.996-ko-0.9.2/tests/cost-train/ipa.test\n",
            "mecab-0.996-ko-0.9.2/tests/cost-train/seed/\n",
            "mecab-0.996-ko-0.9.2/tests/cost-train/seed/rewrite.def\n",
            "mecab-0.996-ko-0.9.2/tests/cost-train/seed/feature.def\n",
            "mecab-0.996-ko-0.9.2/tests/cost-train/seed/unk.def\n",
            "mecab-0.996-ko-0.9.2/tests/cost-train/seed/dicrc\n",
            "mecab-0.996-ko-0.9.2/tests/cost-train/seed/dic.csv\n",
            "mecab-0.996-ko-0.9.2/tests/cost-train/seed/char.def\n",
            "mecab-0.996-ko-0.9.2/tests/cost-train/seed/matrix.def\n",
            "mecab-0.996-ko-0.9.2/tests/run-eval.sh\n",
            "mecab-0.996-ko-0.9.2/tests/run-cost-train.sh\n",
            "mecab-0.996-ko-0.9.2/tests/Makefile.am\n",
            "mecab-0.996-ko-0.9.2/tests/katakana/\n",
            "mecab-0.996-ko-0.9.2/tests/katakana/unk.def\n",
            "mecab-0.996-ko-0.9.2/tests/katakana/dicrc\n",
            "mecab-0.996-ko-0.9.2/tests/katakana/dic.csv\n",
            "mecab-0.996-ko-0.9.2/tests/katakana/test\n",
            "mecab-0.996-ko-0.9.2/tests/katakana/char.def\n",
            "mecab-0.996-ko-0.9.2/tests/katakana/matrix.def\n",
            "mecab-0.996-ko-0.9.2/tests/katakana/test.gld\n",
            "mecab-0.996-ko-0.9.2/tests/eval/\n",
            "mecab-0.996-ko-0.9.2/tests/eval/answer\n",
            "mecab-0.996-ko-0.9.2/tests/eval/system\n",
            "mecab-0.996-ko-0.9.2/tests/eval/test.gld\n",
            "mecab-0.996-ko-0.9.2/tests/shiin/\n",
            "mecab-0.996-ko-0.9.2/tests/shiin/unk.def\n",
            "mecab-0.996-ko-0.9.2/tests/shiin/dicrc\n",
            "mecab-0.996-ko-0.9.2/tests/shiin/dic.csv\n",
            "mecab-0.996-ko-0.9.2/tests/shiin/test\n",
            "mecab-0.996-ko-0.9.2/tests/shiin/char.def\n",
            "mecab-0.996-ko-0.9.2/tests/shiin/matrix.def\n",
            "mecab-0.996-ko-0.9.2/tests/shiin/mkdic.pl\n",
            "mecab-0.996-ko-0.9.2/tests/shiin/test.gld\n",
            "mecab-0.996-ko-0.9.2/tests/latin/\n",
            "mecab-0.996-ko-0.9.2/tests/latin/unk.def\n",
            "mecab-0.996-ko-0.9.2/tests/latin/dicrc\n",
            "mecab-0.996-ko-0.9.2/tests/latin/dic.csv\n",
            "mecab-0.996-ko-0.9.2/tests/latin/test\n",
            "mecab-0.996-ko-0.9.2/tests/latin/char.def\n",
            "mecab-0.996-ko-0.9.2/tests/latin/matrix.def\n",
            "mecab-0.996-ko-0.9.2/tests/latin/test.gld\n",
            "mecab-0.996-ko-0.9.2/tests/chartype/\n",
            "mecab-0.996-ko-0.9.2/tests/chartype/unk.def\n",
            "mecab-0.996-ko-0.9.2/tests/chartype/dicrc\n",
            "mecab-0.996-ko-0.9.2/tests/chartype/dic.csv\n",
            "mecab-0.996-ko-0.9.2/tests/chartype/test\n",
            "mecab-0.996-ko-0.9.2/tests/chartype/char.def\n",
            "mecab-0.996-ko-0.9.2/tests/chartype/matrix.def\n",
            "mecab-0.996-ko-0.9.2/tests/chartype/test.gld\n",
            "mecab-0.996-ko-0.9.2/tests/run-dics.sh\n",
            "mecab-0.996-ko-0.9.2/tests/ngram/\n",
            "mecab-0.996-ko-0.9.2/tests/ngram/unk.def\n",
            "mecab-0.996-ko-0.9.2/tests/ngram/dicrc\n",
            "mecab-0.996-ko-0.9.2/tests/ngram/dic.csv\n",
            "mecab-0.996-ko-0.9.2/tests/ngram/test\n",
            "mecab-0.996-ko-0.9.2/tests/ngram/char.def\n",
            "mecab-0.996-ko-0.9.2/tests/ngram/matrix.def\n",
            "mecab-0.996-ko-0.9.2/tests/ngram/test.gld\n",
            "mecab-0.996-ko-0.9.2/tests/Makefile.in\n",
            "mecab-0.996-ko-0.9.2/ltmain.sh\n",
            "mecab-0.996-ko-0.9.2/config.rpath\n",
            "mecab-0.996-ko-0.9.2/config.h.in\n",
            "mecab-0.996-ko-0.9.2/mecabrc.in\n",
            "mecab-0.996-ko-0.9.2/GPL\n",
            "mecab-0.996-ko-0.9.2/Makefile.train\n",
            "mecab-0.996-ko-0.9.2/ChangeLog\n",
            "mecab-0.996-ko-0.9.2/install-sh\n",
            "mecab-0.996-ko-0.9.2/AUTHORS\n",
            "mecab-0.996-ko-0.9.2/doc/\n",
            "mecab-0.996-ko-0.9.2/doc/bindings.html\n",
            "mecab-0.996-ko-0.9.2/doc/posid.html\n",
            "mecab-0.996-ko-0.9.2/doc/unk.html\n",
            "mecab-0.996-ko-0.9.2/doc/learn.html\n",
            "mecab-0.996-ko-0.9.2/doc/format.html\n",
            "mecab-0.996-ko-0.9.2/doc/libmecab.html\n",
            "mecab-0.996-ko-0.9.2/doc/mecab.css\n",
            "mecab-0.996-ko-0.9.2/doc/feature.html\n",
            "mecab-0.996-ko-0.9.2/doc/Makefile.am\n",
            "mecab-0.996-ko-0.9.2/doc/soft.html\n",
            "mecab-0.996-ko-0.9.2/doc/en/\n",
            "mecab-0.996-ko-0.9.2/doc/en/bindings.html\n",
            "mecab-0.996-ko-0.9.2/doc/dic-detail.html\n",
            "mecab-0.996-ko-0.9.2/doc/flow.png\n",
            "mecab-0.996-ko-0.9.2/doc/mecab.html\n",
            "mecab-0.996-ko-0.9.2/doc/index.html\n",
            "mecab-0.996-ko-0.9.2/doc/result.png\n",
            "mecab-0.996-ko-0.9.2/doc/doxygen/\n",
            "mecab-0.996-ko-0.9.2/doc/doxygen/tab_a.png\n",
            "mecab-0.996-ko-0.9.2/doc/doxygen/globals_eval.html\n",
            "mecab-0.996-ko-0.9.2/doc/doxygen/classMeCab_1_1Tagger-members.html\n",
            "mecab-0.996-ko-0.9.2/doc/doxygen/functions_vars.html\n",
            "mecab-0.996-ko-0.9.2/doc/doxygen/doxygen.css\n",
            "mecab-0.996-ko-0.9.2/doc/doxygen/tab_r.gif\n",
            "mecab-0.996-ko-0.9.2/doc/doxygen/classMeCab_1_1Lattice.html\n",
            "mecab-0.996-ko-0.9.2/doc/doxygen/functions.html\n",
            "mecab-0.996-ko-0.9.2/doc/doxygen/classMeCab_1_1Tagger.html\n",
            "mecab-0.996-ko-0.9.2/doc/doxygen/mecab_8h_source.html\n",
            "mecab-0.996-ko-0.9.2/doc/doxygen/tabs.css\n",
            "mecab-0.996-ko-0.9.2/doc/doxygen/nav_f.png\n",
            "mecab-0.996-ko-0.9.2/doc/doxygen/tab_b.png\n",
            "mecab-0.996-ko-0.9.2/doc/doxygen/globals.html\n",
            "mecab-0.996-ko-0.9.2/doc/doxygen/nav_h.png\n",
            "mecab-0.996-ko-0.9.2/doc/doxygen/tab_h.png\n",
            "mecab-0.996-ko-0.9.2/doc/doxygen/classMeCab_1_1Model.html\n",
            "mecab-0.996-ko-0.9.2/doc/doxygen/globals_func.html\n",
            "mecab-0.996-ko-0.9.2/doc/doxygen/closed.png\n",
            "mecab-0.996-ko-0.9.2/doc/doxygen/tab_l.gif\n",
            "mecab-0.996-ko-0.9.2/doc/doxygen/structmecab__path__t-members.html\n",
            "mecab-0.996-ko-0.9.2/doc/doxygen/functions_func.html\n",
            "mecab-0.996-ko-0.9.2/doc/doxygen/globals_type.html\n",
            "mecab-0.996-ko-0.9.2/doc/doxygen/classMeCab_1_1Lattice-members.html\n",
            "mecab-0.996-ko-0.9.2/doc/doxygen/structmecab__node__t.html\n",
            "mecab-0.996-ko-0.9.2/doc/doxygen/namespacemembers_func.html\n",
            "mecab-0.996-ko-0.9.2/doc/doxygen/tab_s.png\n",
            "mecab-0.996-ko-0.9.2/doc/doxygen/structmecab__dictionary__info__t-members.html\n",
            "mecab-0.996-ko-0.9.2/doc/doxygen/namespacemembers_type.html\n",
            "mecab-0.996-ko-0.9.2/doc/doxygen/classMeCab_1_1Model-members.html\n",
            "mecab-0.996-ko-0.9.2/doc/doxygen/structmecab__dictionary__info__t.html\n",
            "mecab-0.996-ko-0.9.2/doc/doxygen/namespaces.html\n",
            "mecab-0.996-ko-0.9.2/doc/doxygen/namespacemembers.html\n",
            "mecab-0.996-ko-0.9.2/doc/doxygen/namespaceMeCab.html\n",
            "mecab-0.996-ko-0.9.2/doc/doxygen/structmecab__path__t.html\n",
            "mecab-0.996-ko-0.9.2/doc/doxygen/files.html\n",
            "mecab-0.996-ko-0.9.2/doc/doxygen/structmecab__node__t-members.html\n",
            "mecab-0.996-ko-0.9.2/doc/doxygen/index.html\n",
            "mecab-0.996-ko-0.9.2/doc/doxygen/annotated.html\n",
            "mecab-0.996-ko-0.9.2/doc/doxygen/globals_defs.html\n",
            "mecab-0.996-ko-0.9.2/doc/doxygen/classes.html\n",
            "mecab-0.996-ko-0.9.2/doc/doxygen/mecab_8h-source.html\n",
            "mecab-0.996-ko-0.9.2/doc/doxygen/doxygen.png\n",
            "mecab-0.996-ko-0.9.2/doc/doxygen/tab_b.gif\n",
            "mecab-0.996-ko-0.9.2/doc/doxygen/bc_s.png\n",
            "mecab-0.996-ko-0.9.2/doc/doxygen/open.png\n",
            "mecab-0.996-ko-0.9.2/doc/doxygen/mecab_8h.html\n",
            "mecab-0.996-ko-0.9.2/doc/dic.html\n",
            "mecab-0.996-ko-0.9.2/doc/partial.html\n",
            "mecab-0.996-ko-0.9.2/doc/feature.png\n",
            "mecab-0.996-ko-0.9.2/doc/Makefile.in\n",
            "mecab-0.996-ko-0.9.2/missing\n",
            "mecab-0.996-ko-0.9.2/BSD\n",
            "mecab-0.996-ko-0.9.2/NEWS\n",
            "mecab-0.996-ko-0.9.2/mkinstalldirs\n",
            "mecab-0.996-ko-0.9.2/src/\n",
            "mecab-0.996-ko-0.9.2/src/dictionary.h\n",
            "mecab-0.996-ko-0.9.2/src/writer.h\n",
            "mecab-0.996-ko-0.9.2/src/utils.h\n",
            "mecab-0.996-ko-0.9.2/src/string_buffer.cpp\n",
            "mecab-0.996-ko-0.9.2/src/tokenizer.cpp\n",
            "mecab-0.996-ko-0.9.2/src/make.bat\n",
            "mecab-0.996-ko-0.9.2/src/mecab.h\n",
            "mecab-0.996-ko-0.9.2/src/freelist.h\n",
            "mecab-0.996-ko-0.9.2/src/string_buffer.h\n",
            "mecab-0.996-ko-0.9.2/src/learner_tagger.h\n",
            "mecab-0.996-ko-0.9.2/src/dictionary_compiler.cpp\n",
            "mecab-0.996-ko-0.9.2/src/eval.cpp\n",
            "mecab-0.996-ko-0.9.2/src/mecab-system-eval.cpp\n",
            "mecab-0.996-ko-0.9.2/src/darts.h\n",
            "mecab-0.996-ko-0.9.2/src/param.h\n",
            "mecab-0.996-ko-0.9.2/src/char_property.h\n",
            "mecab-0.996-ko-0.9.2/src/learner_node.h\n",
            "mecab-0.996-ko-0.9.2/src/mecab-dict-gen.cpp\n",
            "mecab-0.996-ko-0.9.2/src/mecab-dict-index.cpp\n",
            "mecab-0.996-ko-0.9.2/src/winmain.h\n",
            "mecab-0.996-ko-0.9.2/src/thread.h\n",
            "mecab-0.996-ko-0.9.2/src/context_id.cpp\n",
            "mecab-0.996-ko-0.9.2/src/Makefile.am\n",
            "mecab-0.996-ko-0.9.2/src/connector.h\n",
            "mecab-0.996-ko-0.9.2/src/common.h\n",
            "mecab-0.996-ko-0.9.2/src/dictionary_rewriter.cpp\n",
            "mecab-0.996-ko-0.9.2/src/Makefile.msvc.in\n",
            "mecab-0.996-ko-0.9.2/src/dictionary_rewriter.h\n",
            "mecab-0.996-ko-0.9.2/src/feature_index.h\n",
            "mecab-0.996-ko-0.9.2/src/iconv_utils.cpp\n",
            "mecab-0.996-ko-0.9.2/src/char_property.cpp\n",
            "mecab-0.996-ko-0.9.2/src/mecab-test-gen.cpp\n",
            "mecab-0.996-ko-0.9.2/src/tagger.cpp\n",
            "mecab-0.996-ko-0.9.2/src/mecab-cost-train.cpp\n",
            "mecab-0.996-ko-0.9.2/src/learner.cpp\n",
            "mecab-0.996-ko-0.9.2/src/dictionary.cpp\n",
            "mecab-0.996-ko-0.9.2/src/lbfgs.cpp\n",
            "mecab-0.996-ko-0.9.2/src/ucs.h\n",
            "mecab-0.996-ko-0.9.2/src/writer.cpp\n",
            "mecab-0.996-ko-0.9.2/src/learner_tagger.cpp\n",
            "mecab-0.996-ko-0.9.2/src/lbfgs.h\n",
            "mecab-0.996-ko-0.9.2/src/libmecab.cpp\n",
            "mecab-0.996-ko-0.9.2/src/tokenizer.h\n",
            "mecab-0.996-ko-0.9.2/src/mecab.cpp\n",
            "mecab-0.996-ko-0.9.2/src/utils.cpp\n",
            "mecab-0.996-ko-0.9.2/src/dictionary_generator.cpp\n",
            "mecab-0.996-ko-0.9.2/src/param.cpp\n",
            "mecab-0.996-ko-0.9.2/src/context_id.h\n",
            "mecab-0.996-ko-0.9.2/src/mmap.h\n",
            "mecab-0.996-ko-0.9.2/src/viterbi.h\n",
            "mecab-0.996-ko-0.9.2/src/viterbi.cpp\n",
            "mecab-0.996-ko-0.9.2/src/stream_wrapper.h\n",
            "mecab-0.996-ko-0.9.2/src/feature_index.cpp\n",
            "mecab-0.996-ko-0.9.2/src/nbest_generator.h\n",
            "mecab-0.996-ko-0.9.2/src/ucstable.h\n",
            "mecab-0.996-ko-0.9.2/src/nbest_generator.cpp\n",
            "mecab-0.996-ko-0.9.2/src/iconv_utils.h\n",
            "mecab-0.996-ko-0.9.2/src/connector.cpp\n",
            "mecab-0.996-ko-0.9.2/src/Makefile.in\n",
            "mecab-0.996-ko-0.9.2/src/scoped_ptr.h\n",
            "mecab-0.996-ko-0.9.2/Makefile.in\n",
            "checking for a BSD-compatible install... /usr/bin/install -c\n",
            "checking whether build environment is sane... yes\n",
            "checking for a thread-safe mkdir -p... /bin/mkdir -p\n",
            "checking for gawk... no\n",
            "checking for mawk... mawk\n",
            "checking whether make sets $(MAKE)... yes\n",
            "checking for gcc... gcc\n",
            "checking whether the C compiler works... yes\n",
            "checking for C compiler default output file name... a.out\n",
            "checking for suffix of executables... \n",
            "checking whether we are cross compiling... no\n",
            "checking for suffix of object files... o\n",
            "checking whether we are using the GNU C compiler... yes\n",
            "checking whether gcc accepts -g... yes\n",
            "checking for gcc option to accept ISO C89... none needed\n",
            "checking for style of include used by make... GNU\n",
            "checking dependency style of gcc... none\n",
            "checking for g++... g++\n",
            "checking whether we are using the GNU C++ compiler... yes\n",
            "checking whether g++ accepts -g... yes\n",
            "checking dependency style of g++... none\n",
            "checking how to run the C preprocessor... gcc -E\n",
            "checking for grep that handles long lines and -e... /bin/grep\n",
            "checking for egrep... /bin/grep -E\n",
            "checking whether gcc needs -traditional... no\n",
            "checking whether make sets $(MAKE)... (cached) yes\n",
            "checking build system type... x86_64-unknown-linux-gnu\n",
            "checking host system type... x86_64-unknown-linux-gnu\n",
            "checking how to print strings... printf\n",
            "checking for a sed that does not truncate output... /bin/sed\n",
            "checking for fgrep... /bin/grep -F\n",
            "checking for ld used by gcc... /usr/bin/ld\n",
            "checking if the linker (/usr/bin/ld) is GNU ld... yes\n",
            "checking for BSD- or MS-compatible name lister (nm)... /usr/bin/nm -B\n",
            "checking the name lister (/usr/bin/nm -B) interface... BSD nm\n",
            "checking whether ln -s works... yes\n",
            "checking the maximum length of command line arguments... 1572864\n",
            "checking whether the shell understands some XSI constructs... yes\n",
            "checking whether the shell understands \"+=\"... yes\n",
            "checking how to convert x86_64-unknown-linux-gnu file names to x86_64-unknown-linux-gnu format... func_convert_file_noop\n",
            "checking how to convert x86_64-unknown-linux-gnu file names to toolchain format... func_convert_file_noop\n",
            "checking for /usr/bin/ld option to reload object files... -r\n",
            "checking for objdump... objdump\n",
            "checking how to recognize dependent libraries... pass_all\n",
            "checking for dlltool... dlltool\n",
            "checking how to associate runtime and link libraries... printf %s\\n\n",
            "checking for ar... ar\n",
            "checking for archiver @FILE support... @\n",
            "checking for strip... strip\n",
            "checking for ranlib... ranlib\n",
            "checking command to parse /usr/bin/nm -B output from gcc object... ok\n",
            "checking for sysroot... no\n",
            "./configure: line 7378: /usr/bin/file: No such file or directory\n",
            "checking for mt... no\n",
            "checking if : is a manifest tool... no\n",
            "checking for ANSI C header files... yes\n",
            "checking for sys/types.h... yes\n",
            "checking for sys/stat.h... yes\n",
            "checking for stdlib.h... yes\n",
            "checking for string.h... yes\n",
            "checking for memory.h... yes\n",
            "checking for strings.h... yes\n",
            "checking for inttypes.h... yes\n",
            "checking for stdint.h... yes\n",
            "checking for unistd.h... yes\n",
            "checking for dlfcn.h... yes\n",
            "checking for objdir... .libs\n",
            "checking if gcc supports -fno-rtti -fno-exceptions... no\n",
            "checking for gcc option to produce PIC... -fPIC -DPIC\n",
            "checking if gcc PIC flag -fPIC -DPIC works... yes\n",
            "checking if gcc static flag -static works... yes\n",
            "checking if gcc supports -c -o file.o... yes\n",
            "checking if gcc supports -c -o file.o... (cached) yes\n",
            "checking whether the gcc linker (/usr/bin/ld) supports shared libraries... yes\n",
            "checking whether -lc should be explicitly linked in... no\n",
            "checking dynamic linker characteristics... GNU/Linux ld.so\n",
            "checking how to hardcode library paths into programs... immediate\n",
            "checking whether stripping libraries is possible... yes\n",
            "checking if libtool supports shared libraries... yes\n",
            "checking whether to build shared libraries... yes\n",
            "checking whether to build static libraries... yes\n",
            "checking how to run the C++ preprocessor... g++ -E\n",
            "checking for ld used by g++... /usr/bin/ld\n",
            "checking if the linker (/usr/bin/ld) is GNU ld... yes\n",
            "checking whether the g++ linker (/usr/bin/ld) supports shared libraries... yes\n",
            "checking for g++ option to produce PIC... -fPIC -DPIC\n",
            "checking if g++ PIC flag -fPIC -DPIC works... yes\n",
            "checking if g++ static flag -static works... yes\n",
            "checking if g++ supports -c -o file.o... yes\n",
            "checking if g++ supports -c -o file.o... (cached) yes\n",
            "checking whether the g++ linker (/usr/bin/ld) supports shared libraries... yes\n",
            "checking dynamic linker characteristics... (cached) GNU/Linux ld.so\n",
            "checking how to hardcode library paths into programs... immediate\n",
            "checking for library containing strerror... none required\n",
            "checking whether byte ordering is bigendian... no\n",
            "checking for ld used by GCC... /usr/bin/ld\n",
            "checking if the linker (/usr/bin/ld) is GNU ld... yes\n",
            "checking for shared library run path origin... done\n",
            "checking for iconv... yes\n",
            "checking for working iconv... yes\n",
            "checking for iconv declaration... \n",
            "         extern size_t iconv (iconv_t cd, char * *inbuf, size_t *inbytesleft, char * *outbuf, size_t *outbytesleft);\n",
            "checking for ANSI C header files... (cached) yes\n",
            "checking for an ANSI C-conforming const... yes\n",
            "checking whether byte ordering is bigendian... (cached) no\n",
            "checking for string.h... (cached) yes\n",
            "checking for stdlib.h... (cached) yes\n",
            "checking for unistd.h... (cached) yes\n",
            "checking fcntl.h usability... yes\n",
            "checking fcntl.h presence... yes\n",
            "checking for fcntl.h... yes\n",
            "checking for stdint.h... (cached) yes\n",
            "checking for sys/stat.h... (cached) yes\n",
            "checking sys/mman.h usability... yes\n",
            "checking sys/mman.h presence... yes\n",
            "checking for sys/mman.h... yes\n",
            "checking sys/times.h usability... yes\n",
            "checking sys/times.h presence... yes\n",
            "checking for sys/times.h... yes\n",
            "checking for sys/types.h... (cached) yes\n",
            "checking dirent.h usability... yes\n",
            "checking dirent.h presence... yes\n",
            "checking for dirent.h... yes\n",
            "checking ctype.h usability... yes\n",
            "checking ctype.h presence... yes\n",
            "checking for ctype.h... yes\n",
            "checking for sys/types.h... (cached) yes\n",
            "checking io.h usability... no\n",
            "checking io.h presence... no\n",
            "checking for io.h... no\n",
            "checking windows.h usability... no\n",
            "checking windows.h presence... no\n",
            "checking for windows.h... no\n",
            "checking pthread.h usability... yes\n",
            "checking pthread.h presence... yes\n",
            "checking for pthread.h... yes\n",
            "checking for off_t... yes\n",
            "checking for size_t... yes\n",
            "checking size of char... 1\n",
            "checking size of short... 2\n",
            "checking size of int... 4\n",
            "checking size of long... 8\n",
            "checking size of long long... 8\n",
            "checking size of size_t... 8\n",
            "checking for size_t... (cached) yes\n",
            "checking for unsigned long long int... yes\n",
            "checking for stdlib.h... (cached) yes\n",
            "checking for unistd.h... (cached) yes\n",
            "checking for sys/param.h... yes\n",
            "checking for getpagesize... yes\n",
            "checking for working mmap... yes\n",
            "checking for main in -lstdc++... yes\n",
            "checking for pthread_create in -lpthread... yes\n",
            "checking for pthread_join in -lpthread... yes\n",
            "checking for getenv... yes\n",
            "checking for opendir... yes\n",
            "checking whether make is GNU Make... yes\n",
            "checking if g++ supports stl <vector> (required)... yes\n",
            "checking if g++ supports stl <list> (required)... yes\n",
            "checking if g++ supports stl <map> (required)... yes\n",
            "checking if g++ supports stl <set> (required)... yes\n",
            "checking if g++ supports stl <queue> (required)... yes\n",
            "checking if g++ supports stl <functional> (required)... yes\n",
            "checking if g++ supports stl <algorithm> (required)... yes\n",
            "checking if g++ supports stl <string> (required)... yes\n",
            "checking if g++ supports stl <iostream> (required)... yes\n",
            "checking if g++ supports stl <sstream> (required)... yes\n",
            "checking if g++ supports stl <fstream> (required)... yes\n",
            "checking if g++ supports template <class T> (required)... yes\n",
            "checking if g++ supports const_cast<> (required)... yes\n",
            "checking if g++ supports static_cast<> (required)... yes\n",
            "checking if g++ supports reinterpret_cast<> (required)... yes\n",
            "checking if g++ supports namespaces (required) ... yes\n",
            "checking if g++ supports __thread (optional)... yes\n",
            "checking if g++ supports template <class T> (required)... yes\n",
            "checking if g++ supports GCC native atomic operations (optional)... yes\n",
            "checking if g++ supports OSX native atomic operations (optional)... no\n",
            "checking if g++ environment provides all required features... yes\n",
            "configure: creating ./config.status\n",
            "config.status: creating Makefile\n",
            "config.status: creating src/Makefile\n",
            "config.status: creating src/Makefile.msvc\n",
            "config.status: creating man/Makefile\n",
            "config.status: creating doc/Makefile\n",
            "config.status: creating tests/Makefile\n",
            "config.status: creating swig/version.h\n",
            "config.status: creating mecab.iss\n",
            "config.status: creating mecab-config\n",
            "config.status: creating mecabrc\n",
            "config.status: creating config.h\n",
            "config.status: config.h is unchanged\n",
            "config.status: executing depfiles commands\n",
            "config.status: executing libtool commands\n",
            "config.status: executing default commands\n",
            "make  all-recursive\n",
            "make[1]: Entering directory '/tmp/mecab-0.996-ko-0.9.2'\n",
            "Making all in src\n",
            "make[2]: Entering directory '/tmp/mecab-0.996-ko-0.9.2/src'\n",
            "make[2]: Nothing to be done for 'all'.\n",
            "make[2]: Leaving directory '/tmp/mecab-0.996-ko-0.9.2/src'\n",
            "Making all in man\n",
            "make[2]: Entering directory '/tmp/mecab-0.996-ko-0.9.2/man'\n",
            "make[2]: Nothing to be done for 'all'.\n",
            "make[2]: Leaving directory '/tmp/mecab-0.996-ko-0.9.2/man'\n",
            "Making all in doc\n",
            "make[2]: Entering directory '/tmp/mecab-0.996-ko-0.9.2/doc'\n",
            "make[2]: Nothing to be done for 'all'.\n",
            "make[2]: Leaving directory '/tmp/mecab-0.996-ko-0.9.2/doc'\n",
            "Making all in tests\n",
            "make[2]: Entering directory '/tmp/mecab-0.996-ko-0.9.2/tests'\n",
            "make[2]: Nothing to be done for 'all'.\n",
            "make[2]: Leaving directory '/tmp/mecab-0.996-ko-0.9.2/tests'\n",
            "make[2]: Entering directory '/tmp/mecab-0.996-ko-0.9.2'\n",
            "make[2]: Leaving directory '/tmp/mecab-0.996-ko-0.9.2'\n",
            "make[1]: Leaving directory '/tmp/mecab-0.996-ko-0.9.2'\n",
            "Making check in src\n",
            "make[1]: Entering directory '/tmp/mecab-0.996-ko-0.9.2/src'\n",
            "make[1]: Nothing to be done for 'check'.\n",
            "make[1]: Leaving directory '/tmp/mecab-0.996-ko-0.9.2/src'\n",
            "Making check in man\n",
            "make[1]: Entering directory '/tmp/mecab-0.996-ko-0.9.2/man'\n",
            "make[1]: Nothing to be done for 'check'.\n",
            "make[1]: Leaving directory '/tmp/mecab-0.996-ko-0.9.2/man'\n",
            "Making check in doc\n",
            "make[1]: Entering directory '/tmp/mecab-0.996-ko-0.9.2/doc'\n",
            "make[1]: Nothing to be done for 'check'.\n",
            "make[1]: Leaving directory '/tmp/mecab-0.996-ko-0.9.2/doc'\n",
            "Making check in tests\n",
            "make[1]: Entering directory '/tmp/mecab-0.996-ko-0.9.2/tests'\n",
            "make  check-TESTS\n",
            "make[2]: Entering directory '/tmp/mecab-0.996-ko-0.9.2/tests'\n",
            "./pos-id.def is not found. minimum setting is used\n",
            "reading ./unk.def ... 2\n",
            "emitting double-array: 100% |###########################################| \n",
            "./model.def is not found. skipped.\n",
            "./pos-id.def is not found. minimum setting is used\n",
            "reading ./dic.csv ... 177\n",
            "emitting double-array: 100% |###########################################| \n",
            "reading ./matrix.def ... 178x178\n",
            "emitting matrix      : 100% |###########################################| \n",
            "\n",
            "done!\n",
            "./pos-id.def is not found. minimum setting is used\n",
            "reading ./unk.def ... 2\n",
            "emitting double-array: 100% |###########################################| \n",
            "./model.def is not found. skipped.\n",
            "./pos-id.def is not found. minimum setting is used\n",
            "reading ./dic.csv ... 83\n",
            "emitting double-array: 100% |###########################################| \n",
            "reading ./matrix.def ... 84x84\n",
            "emitting matrix      : 100% |###########################################| \n",
            "\n",
            "done!\n",
            "./pos-id.def is not found. minimum setting is used\n",
            "reading ./unk.def ... 2\n",
            "emitting double-array: 100% |###########################################| \n",
            "./model.def is not found. skipped.\n",
            "./pos-id.def is not found. minimum setting is used\n",
            "reading ./dic.csv ... 450\n",
            "emitting double-array: 100% |###########################################| \n",
            "reading ./matrix.def ... 1x1\n",
            "\n",
            "done!\n",
            "./pos-id.def is not found. minimum setting is used\n",
            "reading ./unk.def ... 2\n",
            "emitting double-array: 100% |###########################################| \n",
            "./model.def is not found. skipped.\n",
            "./pos-id.def is not found. minimum setting is used\n",
            "reading ./dic.csv ... 162\n",
            "emitting double-array: 100% |###########################################| \n",
            "reading ./matrix.def ... 3x3\n",
            "emitting matrix      : 100% |###########################################| \n",
            "\n",
            "done!\n",
            "./pos-id.def is not found. minimum setting is used\n",
            "reading ./unk.def ... 2\n",
            "emitting double-array: 100% |###########################################| \n",
            "./model.def is not found. skipped.\n",
            "./pos-id.def is not found. minimum setting is used\n",
            "reading ./dic.csv ... 4\n",
            "emitting double-array: 100% |###########################################| \n",
            "reading ./matrix.def ... 1x1\n",
            "\n",
            "done!\n",
            "./pos-id.def is not found. minimum setting is used\n",
            "reading ./unk.def ... 11\n",
            "emitting double-array: 100% |###########################################| \n",
            "./model.def is not found. skipped.\n",
            "./pos-id.def is not found. minimum setting is used\n",
            "reading ./dic.csv ... 1\n",
            "reading ./matrix.def ... 1x1\n",
            "\n",
            "done!\n",
            "./pos-id.def is not found. minimum setting is used\n",
            "reading ./unk.def ... 2\n",
            "emitting double-array: 100% |###########################################| \n",
            "./model.def is not found. skipped.\n",
            "./pos-id.def is not found. minimum setting is used\n",
            "reading ./dic.csv ... 1\n",
            "reading ./matrix.def ... 1x1\n",
            "\n",
            "done!\n",
            "PASS: run-dics.sh\n",
            "PASS: run-eval.sh\n",
            "seed/pos-id.def is not found. minimum setting is used\n",
            "reading seed/unk.def ... 40\n",
            "emitting double-array: 100% |###########################################| \n",
            "seed/model.def is not found. skipped.\n",
            "seed/pos-id.def is not found. minimum setting is used\n",
            "reading seed/dic.csv ... 4335\n",
            "emitting double-array: 100% |###########################################| \n",
            "reading seed/matrix.def ... 1x1\n",
            "\n",
            "done!\n",
            "reading corpus ...\n",
            "Number of sentences: 34\n",
            "Number of features:  64108\n",
            "eta:                 0.00005\n",
            "freq:                1\n",
            "eval-size:           6\n",
            "unk-eval-size:       4\n",
            "threads:             1\n",
            "charset:             EUC-JP\n",
            "C(sigma^2):          1.00000\n",
            "\n",
            "iter=0 err=1.00000 F=0.35771 target=2406.28355 diff=1.00000\n",
            "iter=1 err=0.97059 F=0.65652 target=1484.25231 diff=0.38318\n",
            "iter=2 err=0.91176 F=0.79331 target=863.32765 diff=0.41834\n",
            "iter=3 err=0.85294 F=0.89213 target=596.72480 diff=0.30881\n",
            "iter=4 err=0.61765 F=0.95467 target=336.30744 diff=0.43641\n",
            "iter=5 err=0.50000 F=0.96702 target=246.53039 diff=0.26695\n",
            "iter=6 err=0.35294 F=0.95472 target=188.93963 diff=0.23361\n",
            "iter=7 err=0.20588 F=0.99106 target=168.62665 diff=0.10751\n",
            "iter=8 err=0.05882 F=0.99777 target=158.64865 diff=0.05917\n",
            "iter=9 err=0.08824 F=0.99665 target=154.14530 diff=0.02839\n",
            "iter=10 err=0.08824 F=0.99665 target=151.94257 diff=0.01429\n",
            "iter=11 err=0.02941 F=0.99888 target=147.20825 diff=0.03116\n",
            "iter=12 err=0.00000 F=1.00000 target=147.34956 diff=0.00096\n",
            "iter=13 err=0.02941 F=0.99888 target=146.32592 diff=0.00695\n",
            "iter=14 err=0.00000 F=1.00000 target=145.77299 diff=0.00378\n",
            "iter=15 err=0.02941 F=0.99888 target=145.24641 diff=0.00361\n",
            "iter=16 err=0.00000 F=1.00000 target=144.96490 diff=0.00194\n",
            "iter=17 err=0.02941 F=0.99888 target=144.90246 diff=0.00043\n",
            "iter=18 err=0.00000 F=1.00000 target=144.75959 diff=0.00099\n",
            "iter=19 err=0.00000 F=1.00000 target=144.71727 diff=0.00029\n",
            "iter=20 err=0.00000 F=1.00000 target=144.66337 diff=0.00037\n",
            "iter=21 err=0.00000 F=1.00000 target=144.61349 diff=0.00034\n",
            "iter=22 err=0.00000 F=1.00000 target=144.62987 diff=0.00011\n",
            "iter=23 err=0.00000 F=1.00000 target=144.60060 diff=0.00020\n",
            "iter=24 err=0.00000 F=1.00000 target=144.59125 diff=0.00006\n",
            "iter=25 err=0.00000 F=1.00000 target=144.58619 diff=0.00004\n",
            "iter=26 err=0.00000 F=1.00000 target=144.58219 diff=0.00003\n",
            "iter=27 err=0.00000 F=1.00000 target=144.58059 diff=0.00001\n",
            "\n",
            "Done! writing model file ... \n",
            "model-ipadic.c1.0.f1.model is not a binary model. reopen it as text mode...\n",
            "reading seed/unk.def ... 40\n",
            "reading seed/dic.csv ... 4335\n",
            "emitting model-ipadic.c1.0.f1.dic/left-id.def/ model-ipadic.c1.0.f1.dic/right-id.def\n",
            "emitting model-ipadic.c1.0.f1.dic/unk.def ... 40\n",
            "emitting model-ipadic.c1.0.f1.dic/dic.csv ... 4335\n",
            "emitting matrix      : 100% |###########################################| \n",
            "copying seed/char.def to model-ipadic.c1.0.f1.dic/char.def\n",
            "copying seed/rewrite.def to model-ipadic.c1.0.f1.dic/rewrite.def\n",
            "copying seed/dicrc to model-ipadic.c1.0.f1.dic/dicrc\n",
            "copying seed/feature.def to model-ipadic.c1.0.f1.dic/feature.def\n",
            "copying model-ipadic.c1.0.f1.model to model-ipadic.c1.0.f1.dic/model.def\n",
            "\n",
            "done!\n",
            "model-ipadic.c1.0.f1.dic/pos-id.def is not found. minimum setting is used\n",
            "reading model-ipadic.c1.0.f1.dic/unk.def ... 40\n",
            "emitting double-array: 100% |###########################################| \n",
            "model-ipadic.c1.0.f1.dic/pos-id.def is not found. minimum setting is used\n",
            "reading model-ipadic.c1.0.f1.dic/dic.csv ... 4335\n",
            "emitting double-array: 100% |###########################################| \n",
            "reading model-ipadic.c1.0.f1.dic/matrix.def ... 346x346\n",
            "emitting matrix      : 100% |###########################################| \n",
            "\n",
            "done!\n",
            "              precision          recall         F\n",
            "LEVEL 0:    12.8959(57/442) 11.8998(57/479) 12.3779\n",
            "LEVEL 1:    12.2172(54/442) 11.2735(54/479) 11.7264\n",
            "LEVEL 2:    11.7647(52/442) 10.8559(52/479) 11.2921\n",
            "LEVEL 4:    11.7647(52/442) 10.8559(52/479) 11.2921\n",
            "PASS: run-cost-train.sh\n",
            "==================\n",
            "All 3 tests passed\n",
            "==================\n",
            "make[2]: Leaving directory '/tmp/mecab-0.996-ko-0.9.2/tests'\n",
            "make[1]: Leaving directory '/tmp/mecab-0.996-ko-0.9.2/tests'\n",
            "make[1]: Entering directory '/tmp/mecab-0.996-ko-0.9.2'\n",
            "make[1]: Leaving directory '/tmp/mecab-0.996-ko-0.9.2'\n",
            "Making install in src\n",
            "make[1]: Entering directory '/tmp/mecab-0.996-ko-0.9.2/src'\n",
            "make[2]: Entering directory '/tmp/mecab-0.996-ko-0.9.2/src'\n",
            "test -z \"/usr/local/lib\" || /bin/mkdir -p \"/usr/local/lib\"\n",
            " /bin/bash ../libtool   --mode=install /usr/bin/install -c   libmecab.la '/usr/local/lib'\n",
            "libtool: install: /usr/bin/install -c .libs/libmecab.so.2.0.0 /usr/local/lib/libmecab.so.2.0.0\n",
            "libtool: install: (cd /usr/local/lib && { ln -s -f libmecab.so.2.0.0 libmecab.so.2 || { rm -f libmecab.so.2 && ln -s libmecab.so.2.0.0 libmecab.so.2; }; })\n",
            "libtool: install: (cd /usr/local/lib && { ln -s -f libmecab.so.2.0.0 libmecab.so || { rm -f libmecab.so && ln -s libmecab.so.2.0.0 libmecab.so; }; })\n",
            "libtool: install: /usr/bin/install -c .libs/libmecab.lai /usr/local/lib/libmecab.la\n",
            "libtool: install: /usr/bin/install -c .libs/libmecab.a /usr/local/lib/libmecab.a\n",
            "libtool: install: chmod 644 /usr/local/lib/libmecab.a\n",
            "libtool: install: ranlib /usr/local/lib/libmecab.a\n",
            "libtool: finish: PATH=\"/opt/bin:/usr/local/nvidia/bin:/usr/local/cuda/bin:/usr/local/sbin:/usr/local/bin:/usr/sbin:/usr/bin:/sbin:/bin:/tools/node/bin:/tools/google-cloud-sdk/bin:/sbin\" ldconfig -n /usr/local/lib\n",
            "----------------------------------------------------------------------\n",
            "Libraries have been installed in:\n",
            "   /usr/local/lib\n",
            "\n",
            "If you ever happen to want to link against installed libraries\n",
            "in a given directory, LIBDIR, you must either use libtool, and\n",
            "specify the full pathname of the library, or use the `-LLIBDIR'\n",
            "flag during linking and do at least one of the following:\n",
            "   - add LIBDIR to the `LD_LIBRARY_PATH' environment variable\n",
            "     during execution\n",
            "   - add LIBDIR to the `LD_RUN_PATH' environment variable\n",
            "     during linking\n",
            "   - use the `-Wl,-rpath -Wl,LIBDIR' linker flag\n",
            "   - have your system administrator add LIBDIR to `/etc/ld.so.conf'\n",
            "\n",
            "See any operating system documentation about shared libraries for\n",
            "more information, such as the ld(1) and ld.so(8) manual pages.\n",
            "----------------------------------------------------------------------\n",
            "test -z \"/usr/local/bin\" || /bin/mkdir -p \"/usr/local/bin\"\n",
            "  /bin/bash ../libtool   --mode=install /usr/bin/install -c mecab '/usr/local/bin'\n",
            "libtool: install: /usr/bin/install -c .libs/mecab /usr/local/bin/mecab\n",
            "test -z \"/usr/local/libexec/mecab\" || /bin/mkdir -p \"/usr/local/libexec/mecab\"\n",
            "  /bin/bash ../libtool   --mode=install /usr/bin/install -c mecab-dict-index mecab-dict-gen mecab-cost-train mecab-system-eval mecab-test-gen '/usr/local/libexec/mecab'\n",
            "libtool: install: /usr/bin/install -c .libs/mecab-dict-index /usr/local/libexec/mecab/mecab-dict-index\n",
            "libtool: install: /usr/bin/install -c .libs/mecab-dict-gen /usr/local/libexec/mecab/mecab-dict-gen\n",
            "libtool: install: /usr/bin/install -c .libs/mecab-cost-train /usr/local/libexec/mecab/mecab-cost-train\n",
            "libtool: install: /usr/bin/install -c .libs/mecab-system-eval /usr/local/libexec/mecab/mecab-system-eval\n",
            "libtool: install: /usr/bin/install -c .libs/mecab-test-gen /usr/local/libexec/mecab/mecab-test-gen\n",
            "test -z \"/usr/local/include\" || /bin/mkdir -p \"/usr/local/include\"\n",
            " /usr/bin/install -c -m 644 mecab.h '/usr/local/include'\n",
            "make[2]: Leaving directory '/tmp/mecab-0.996-ko-0.9.2/src'\n",
            "make[1]: Leaving directory '/tmp/mecab-0.996-ko-0.9.2/src'\n",
            "Making install in man\n",
            "make[1]: Entering directory '/tmp/mecab-0.996-ko-0.9.2/man'\n",
            "make[2]: Entering directory '/tmp/mecab-0.996-ko-0.9.2/man'\n",
            "make[2]: Nothing to be done for 'install-exec-am'.\n",
            "test -z \"/usr/local/share/man/man1\" || /bin/mkdir -p \"/usr/local/share/man/man1\"\n",
            " /usr/bin/install -c -m 644 mecab.1 '/usr/local/share/man/man1'\n",
            "make[2]: Leaving directory '/tmp/mecab-0.996-ko-0.9.2/man'\n",
            "make[1]: Leaving directory '/tmp/mecab-0.996-ko-0.9.2/man'\n",
            "Making install in doc\n",
            "make[1]: Entering directory '/tmp/mecab-0.996-ko-0.9.2/doc'\n",
            "make[2]: Entering directory '/tmp/mecab-0.996-ko-0.9.2/doc'\n",
            "make[2]: Nothing to be done for 'install-exec-am'.\n",
            "make[2]: Nothing to be done for 'install-data-am'.\n",
            "make[2]: Leaving directory '/tmp/mecab-0.996-ko-0.9.2/doc'\n",
            "make[1]: Leaving directory '/tmp/mecab-0.996-ko-0.9.2/doc'\n",
            "Making install in tests\n",
            "make[1]: Entering directory '/tmp/mecab-0.996-ko-0.9.2/tests'\n",
            "make[2]: Entering directory '/tmp/mecab-0.996-ko-0.9.2/tests'\n",
            "make[2]: Nothing to be done for 'install-exec-am'.\n",
            "make[2]: Nothing to be done for 'install-data-am'.\n",
            "make[2]: Leaving directory '/tmp/mecab-0.996-ko-0.9.2/tests'\n",
            "make[1]: Leaving directory '/tmp/mecab-0.996-ko-0.9.2/tests'\n",
            "make[1]: Entering directory '/tmp/mecab-0.996-ko-0.9.2'\n",
            "make[2]: Entering directory '/tmp/mecab-0.996-ko-0.9.2'\n",
            "test -z \"/usr/local/bin\" || /bin/mkdir -p \"/usr/local/bin\"\n",
            " /usr/bin/install -c mecab-config '/usr/local/bin'\n",
            "test -z \"/usr/local/etc\" || /bin/mkdir -p \"/usr/local/etc\"\n",
            " /usr/bin/install -c -m 644 mecabrc '/usr/local/etc'\n",
            "make[2]: Leaving directory '/tmp/mecab-0.996-ko-0.9.2'\n",
            "make[1]: Leaving directory '/tmp/mecab-0.996-ko-0.9.2'\n",
            "--2022-08-27 11:31:49--  https://www.dropbox.com/s/i8girnk5p80076c/mecab-ko-dic-2.1.1-20180720.tar.gz?dl=1\n",
            "Resolving www.dropbox.com (www.dropbox.com)... 162.125.3.18, 2620:100:6018:18::a27d:312\n",
            "Connecting to www.dropbox.com (www.dropbox.com)|162.125.3.18|:443... connected.\n",
            "HTTP request sent, awaiting response... 301 Moved Permanently\n",
            "Location: /s/dl/i8girnk5p80076c/mecab-ko-dic-2.1.1-20180720.tar.gz [following]\n",
            "--2022-08-27 11:31:49--  https://www.dropbox.com/s/dl/i8girnk5p80076c/mecab-ko-dic-2.1.1-20180720.tar.gz\n",
            "Reusing existing connection to www.dropbox.com:443.\n",
            "HTTP request sent, awaiting response... 302 Found\n",
            "Location: https://uc0e54d178b1c2f3f047947bc524.dl.dropboxusercontent.com/cd/0/get/BrzXLD75fvr8wCtE_j_x4GvkW-wiXECXwl9t5n2GIUAmeBw9eqPsGz14xFQoB82Hs2QCFJDZ65LjLcMsqcFexspW0XjmqlwdhCbS8BAQAGKrLc2ki52l5Az6xyE16_nykOZAGC-NT9J1XwWUOm-dUCxWjP3bCRXj5D3Q5p7FBItAaKRxKSxEeKcvSz1WtB1i-lE/file?dl=1# [following]\n",
            "--2022-08-27 11:31:49--  https://uc0e54d178b1c2f3f047947bc524.dl.dropboxusercontent.com/cd/0/get/BrzXLD75fvr8wCtE_j_x4GvkW-wiXECXwl9t5n2GIUAmeBw9eqPsGz14xFQoB82Hs2QCFJDZ65LjLcMsqcFexspW0XjmqlwdhCbS8BAQAGKrLc2ki52l5Az6xyE16_nykOZAGC-NT9J1XwWUOm-dUCxWjP3bCRXj5D3Q5p7FBItAaKRxKSxEeKcvSz1WtB1i-lE/file?dl=1\n",
            "Resolving uc0e54d178b1c2f3f047947bc524.dl.dropboxusercontent.com (uc0e54d178b1c2f3f047947bc524.dl.dropboxusercontent.com)... 162.125.4.15, 2620:100:6018:15::a27d:30f\n",
            "Connecting to uc0e54d178b1c2f3f047947bc524.dl.dropboxusercontent.com (uc0e54d178b1c2f3f047947bc524.dl.dropboxusercontent.com)|162.125.4.15|:443... connected.\n",
            "HTTP request sent, awaiting response... 200 OK\n",
            "Length: 49775061 (47M) [application/binary]\n",
            "Saving to: ‘mecab-ko-dic-2.1.1-20180720.tar.gz?dl=1’\n",
            "\n",
            "mecab-ko-dic-2.1.1- 100%[===================>]  47.47M  51.5MB/s    in 0.9s    \n",
            "\n",
            "2022-08-27 11:31:51 (51.5 MB/s) - ‘mecab-ko-dic-2.1.1-20180720.tar.gz?dl=1’ saved [49775061/49775061]\n",
            "\n",
            "Reading package lists... Done\n",
            "Building dependency tree       \n",
            "Reading state information... Done\n",
            "autoconf is already the newest version (2.69-11).\n",
            "autoconf set to manually installed.\n",
            "The following package was automatically installed and is no longer required:\n",
            "  libnvidia-common-460\n",
            "Use 'apt autoremove' to remove it.\n",
            "0 upgraded, 0 newly installed, 0 to remove and 4 not upgraded.\n",
            "mecab-ko-dic-2.1.1-20180720/\n",
            "mecab-ko-dic-2.1.1-20180720/configure\n",
            "mecab-ko-dic-2.1.1-20180720/COPYING\n",
            "mecab-ko-dic-2.1.1-20180720/autogen.sh\n",
            "mecab-ko-dic-2.1.1-20180720/Place-station.csv\n",
            "mecab-ko-dic-2.1.1-20180720/NNG.csv\n",
            "mecab-ko-dic-2.1.1-20180720/README\n",
            "mecab-ko-dic-2.1.1-20180720/EF.csv\n",
            "mecab-ko-dic-2.1.1-20180720/MAG.csv\n",
            "mecab-ko-dic-2.1.1-20180720/Preanalysis.csv\n",
            "mecab-ko-dic-2.1.1-20180720/NNB.csv\n",
            "mecab-ko-dic-2.1.1-20180720/Person-actor.csv\n",
            "mecab-ko-dic-2.1.1-20180720/VV.csv\n",
            "mecab-ko-dic-2.1.1-20180720/Makefile.in\n",
            "mecab-ko-dic-2.1.1-20180720/matrix.def\n",
            "mecab-ko-dic-2.1.1-20180720/EC.csv\n",
            "mecab-ko-dic-2.1.1-20180720/NNBC.csv\n",
            "mecab-ko-dic-2.1.1-20180720/clean\n",
            "mecab-ko-dic-2.1.1-20180720/ChangeLog\n",
            "mecab-ko-dic-2.1.1-20180720/J.csv\n",
            "mecab-ko-dic-2.1.1-20180720/.keep\n",
            "mecab-ko-dic-2.1.1-20180720/feature.def\n",
            "mecab-ko-dic-2.1.1-20180720/Foreign.csv\n",
            "mecab-ko-dic-2.1.1-20180720/XPN.csv\n",
            "mecab-ko-dic-2.1.1-20180720/EP.csv\n",
            "mecab-ko-dic-2.1.1-20180720/NR.csv\n",
            "mecab-ko-dic-2.1.1-20180720/left-id.def\n",
            "mecab-ko-dic-2.1.1-20180720/Place.csv\n",
            "mecab-ko-dic-2.1.1-20180720/Symbol.csv\n",
            "mecab-ko-dic-2.1.1-20180720/dicrc\n",
            "mecab-ko-dic-2.1.1-20180720/NP.csv\n",
            "mecab-ko-dic-2.1.1-20180720/ETM.csv\n",
            "mecab-ko-dic-2.1.1-20180720/IC.csv\n",
            "mecab-ko-dic-2.1.1-20180720/Place-address.csv\n",
            "mecab-ko-dic-2.1.1-20180720/Group.csv\n",
            "mecab-ko-dic-2.1.1-20180720/model.def\n",
            "mecab-ko-dic-2.1.1-20180720/XSN.csv\n",
            "mecab-ko-dic-2.1.1-20180720/INSTALL\n",
            "mecab-ko-dic-2.1.1-20180720/rewrite.def\n",
            "mecab-ko-dic-2.1.1-20180720/Inflect.csv\n",
            "mecab-ko-dic-2.1.1-20180720/configure.ac\n",
            "mecab-ko-dic-2.1.1-20180720/NNP.csv\n",
            "mecab-ko-dic-2.1.1-20180720/CoinedWord.csv\n",
            "mecab-ko-dic-2.1.1-20180720/XSV.csv\n",
            "mecab-ko-dic-2.1.1-20180720/pos-id.def\n",
            "mecab-ko-dic-2.1.1-20180720/Makefile.am\n",
            "mecab-ko-dic-2.1.1-20180720/unk.def\n",
            "mecab-ko-dic-2.1.1-20180720/missing\n",
            "mecab-ko-dic-2.1.1-20180720/VCP.csv\n",
            "mecab-ko-dic-2.1.1-20180720/install-sh\n",
            "mecab-ko-dic-2.1.1-20180720/Hanja.csv\n",
            "mecab-ko-dic-2.1.1-20180720/MAJ.csv\n",
            "mecab-ko-dic-2.1.1-20180720/XSA.csv\n",
            "mecab-ko-dic-2.1.1-20180720/Wikipedia.csv\n",
            "mecab-ko-dic-2.1.1-20180720/tools/\n",
            "mecab-ko-dic-2.1.1-20180720/tools/add-userdic.sh\n",
            "mecab-ko-dic-2.1.1-20180720/tools/mecab-bestn.sh\n",
            "mecab-ko-dic-2.1.1-20180720/tools/convert_for_using_store.sh\n",
            "mecab-ko-dic-2.1.1-20180720/user-dic/\n",
            "mecab-ko-dic-2.1.1-20180720/user-dic/nnp.csv\n",
            "mecab-ko-dic-2.1.1-20180720/user-dic/place.csv\n",
            "mecab-ko-dic-2.1.1-20180720/user-dic/person.csv\n",
            "mecab-ko-dic-2.1.1-20180720/user-dic/README.md\n",
            "mecab-ko-dic-2.1.1-20180720/NorthKorea.csv\n",
            "mecab-ko-dic-2.1.1-20180720/VX.csv\n",
            "mecab-ko-dic-2.1.1-20180720/right-id.def\n",
            "mecab-ko-dic-2.1.1-20180720/VA.csv\n",
            "mecab-ko-dic-2.1.1-20180720/char.def\n",
            "mecab-ko-dic-2.1.1-20180720/NEWS\n",
            "mecab-ko-dic-2.1.1-20180720/MM.csv\n",
            "mecab-ko-dic-2.1.1-20180720/ETN.csv\n",
            "mecab-ko-dic-2.1.1-20180720/AUTHORS\n",
            "mecab-ko-dic-2.1.1-20180720/Person.csv\n",
            "mecab-ko-dic-2.1.1-20180720/XR.csv\n",
            "mecab-ko-dic-2.1.1-20180720/VCN.csv\n",
            "Looking in current directory for macros.\n",
            "configure.ac:2: warning: AM_INIT_AUTOMAKE: two- and three-arguments forms are deprecated.  For more info, see:\n",
            "configure.ac:2: http://www.gnu.org/software/automake/manual/automake.html#Modernize-AM_005fINIT_005fAUTOMAKE-invocation\n",
            "checking for a BSD-compatible install... /usr/bin/install -c\n",
            "checking whether build environment is sane... yes\n",
            "/tmp/mecab-ko-dic-2.1.1-20180720/missing: Unknown `--is-lightweight' option\n",
            "Try `/tmp/mecab-ko-dic-2.1.1-20180720/missing --help' for more information\n",
            "configure: WARNING: 'missing' script is too old or missing\n",
            "checking for a thread-safe mkdir -p... /bin/mkdir -p\n",
            "checking for gawk... no\n",
            "checking for mawk... mawk\n",
            "checking whether make sets $(MAKE)... yes\n",
            "checking whether make supports nested variables... yes\n",
            "checking for mecab-config... /usr/local/bin/mecab-config\n",
            "checking that generated files are newer than configure... done\n",
            "configure: creating ./config.status\n",
            "config.status: creating Makefile\n",
            "make: Nothing to be done for 'all'.\n",
            "make[1]: Entering directory '/tmp/mecab-ko-dic-2.1.1-20180720'\n",
            "make[1]: Nothing to be done for 'install-exec-am'.\n",
            " /bin/mkdir -p '/usr/local/lib/mecab/dic/mecab-ko-dic'\n",
            " /usr/bin/install -c -m 644 model.bin matrix.bin char.bin sys.dic unk.dic left-id.def right-id.def rewrite.def pos-id.def dicrc '/usr/local/lib/mecab/dic/mecab-ko-dic'\n",
            "make[1]: Leaving directory '/tmp/mecab-ko-dic-2.1.1-20180720'\n",
            "fatal: destination path 'mecab-python-0.996' already exists and is not an empty directory.\n",
            "Looking in indexes: https://pypi.org/simple, https://us-python.pkg.dev/colab-wheels/public/simple/\n",
            "Requirement already satisfied: konlpy in /usr/local/lib/python3.7/dist-packages (0.6.0)\n",
            "Requirement already satisfied: numpy>=1.6 in /usr/local/lib/python3.7/dist-packages (from konlpy) (1.21.6)\n",
            "Requirement already satisfied: JPype1>=0.7.0 in /usr/local/lib/python3.7/dist-packages (from konlpy) (1.4.0)\n",
            "Requirement already satisfied: lxml>=4.1.0 in /usr/local/lib/python3.7/dist-packages (from konlpy) (4.9.1)\n",
            "Requirement already satisfied: typing-extensions in /usr/local/lib/python3.7/dist-packages (from JPype1>=0.7.0->konlpy) (4.1.1)\n"
          ]
        }
      ]
    },
    {
      "cell_type": "code",
      "source": [
        "import numpy as np\n",
        "import pandas as pd\n",
        "import matplotlib\n",
        "import matplotlib.pyplot as plt\n",
        "import sklearn\n",
        "import seaborn as sns\n",
        "import random as rn\n",
        "import re\n",
        "import os\n",
        "import warnings\n",
        "import folium\n",
        "import geopy.distance\n",
        "import konlpy\n",
        "import MeCab\n",
        "from collections import Counter\n",
        "from konlpy.tag import Kkma, Komoran, Hannanum, Okt, Mecab\n",
        "from konlpy.utils import pprint\n",
        "from nltk import Text\n",
        "from sklearn.preprocessing import LabelEncoder\n",
        "from sklearn.preprocessing import OneHotEncoder\n",
        "from sklearn.linear_model import LinearRegression\n",
        "from sklearn.linear_model import LogisticRegression\n",
        "from sklearn.ensemble import RandomForestRegressor\n",
        "from sklearn.ensemble import VotingRegressor\n",
        "from sklearn.feature_extraction.text import CountVectorizer, TfidfVectorizer\n",
        "from keras.layers import Dense, Activation\n",
        "from sklearn.metrics import accuracy_score, confusion_matrix\n",
        "from sklearn.metrics import precision_score\n",
        "from sklearn.model_selection import cross_val_score\n",
        "from sklearn.model_selection import train_test_split\n",
        "from sklearn.model_selection import KFold\n",
        "\n",
        "\n",
        "plt.rc('font',  family='NanumBarunGothic')\n",
        "plt.rcParams[\"axes.unicode_minus\"]=False #마이너스 깨짐 해결\n",
        "%matplotlib inline\n",
        "warnings.filterwarnings(action='ignore')"
      ],
      "metadata": {
        "id": "aFbwa8sSnkeA"
      },
      "execution_count": 66,
      "outputs": []
    },
    {
      "cell_type": "code",
      "execution_count": 3,
      "metadata": {
        "colab": {
          "base_uri": "https://localhost:8080/"
        },
        "id": "VdInlTtKnHYT",
        "outputId": "3dbc76a8-f5e0-4883-d1c0-69ab3ae599a5"
      },
      "outputs": [
        {
          "output_type": "stream",
          "name": "stdout",
          "text": [
            "Mounted at /content/drive\n"
          ]
        }
      ],
      "source": [
        "from google.colab import drive\n",
        "drive.mount('/content/drive')"
      ]
    },
    {
      "cell_type": "markdown",
      "source": [
        "### (1) 데이터 불러오기"
      ],
      "metadata": {
        "id": "VMjt8zqwPmC8"
      }
    },
    {
      "cell_type": "code",
      "source": [
        "data=\"/content/drive/MyDrive/Project/팀 프로젝트/3_company dinner/data/\""
      ],
      "metadata": {
        "id": "h7OQy3HTqnqq"
      },
      "execution_count": 33,
      "outputs": []
    },
    {
      "cell_type": "code",
      "source": [
        "df = pd.read_csv(os.path.join(data,\"compnay_dinner_tokenization_2019.csv\"),index_col=0)\n",
        "df['review']=df['review'].fillna(\"\")\n",
        "df['review_check']=df['review_check'].fillna(\"\")\n",
        "df.head()"
      ],
      "metadata": {
        "colab": {
          "base_uri": "https://localhost:8080/",
          "height": 1000
        },
        "id": "4IZY_DbEocLn",
        "outputId": "079c344d-fa7e-40d6-c664-94b5f3f01ff5"
      },
      "execution_count": 34,
      "outputs": [
        {
          "output_type": "execute_result",
          "data": {
            "text/plain": [
              "  store_name        date                                             review  \\\n",
              "0  백억하누 강남본점  2020-01-03  네이버로 예약하고 방문했는데 사정이 있어 조용한 구석자리를 부탁한다고 썼는데도 구석...   \n",
              "1      강남진해장  2022-04-05  일반적인 양평해장국과 다르게  기본 간이 되어있고 베이스가 육개장과 뼈해장국같은 느...   \n",
              "2  백억하누 강남본점  2022-05-07  개인룸이 있고 룸안에 화장실이 있어  너무 편하고 좋았는데 옆에 개인 서랍이 있는지...   \n",
              "3   딘타이펑 강남점  2019-11-21  분위기도 괜찮고 맛있어요 네이버예약 덕분에 에이드도 서비스로 나왔네요 가격은 비싸지...   \n",
              "4  백억하누 강남본점  2021-05-25  룸으로 이용했는데 화장실도 딸려있어서 너무 편했어요 삼합 재료들이 신선해서 생각보다...   \n",
              "\n",
              "   length                                       review_check  check_length  \\\n",
              "0     358  네이버로 예약하고 방문했는데 사정이 있어 조용한 구석 자리를 부탁한다고 썼는데도 구...           370   \n",
              "1     343  일반적인 양평 해장국과 다르게 기본 간이 되어 있고 베이스가 육개장과 뼈해장국 같은...           348   \n",
              "2     163  개인 룸이 있고 룸 안에 화장실이 있어 너무 편하고 좋았는데 옆에 개인 서랍이 있는...           165   \n",
              "3      59  분위기도 괜찮고 맛있어요 네이버예약 덕분에 에이드도 서비스로 나왔네요 가격은 비싸지...            59   \n",
              "4     265  룸으로 이용했는데 화장실도 딸려 있어서 너무 편했어요 삼합 재료들이 신선해서 생각보...           276   \n",
              "\n",
              "   menu  mood  service  price  ...  기리야마  시카고  대려도  신부자  봉추찜닭  리샨  Pavox  삼거리  \\\n",
              "0     1     1        1      1  ...     0    0    0    0     0   0      0    0   \n",
              "1     1     1        1      1  ...     0    0    0    0     0   0      0    0   \n",
              "2     1     1        1      0  ...     0    0    0    0     0   0      0    0   \n",
              "3     1     1        1      1  ...     0    0    0    0     0   0      0    0   \n",
              "4     1     1        0      1  ...     0    0    0    0     0   0      0    0   \n",
              "\n",
              "   느린마을  봉피양  \n",
              "0     0    0  \n",
              "1     0    0  \n",
              "2     0    0  \n",
              "3     0    0  \n",
              "4     0    0  \n",
              "\n",
              "[5 rows x 48 columns]"
            ],
            "text/html": [
              "\n",
              "  <div id=\"df-d5ac3569-fdd9-4ffc-a164-b14997459bcd\">\n",
              "    <div class=\"colab-df-container\">\n",
              "      <div>\n",
              "<style scoped>\n",
              "    .dataframe tbody tr th:only-of-type {\n",
              "        vertical-align: middle;\n",
              "    }\n",
              "\n",
              "    .dataframe tbody tr th {\n",
              "        vertical-align: top;\n",
              "    }\n",
              "\n",
              "    .dataframe thead th {\n",
              "        text-align: right;\n",
              "    }\n",
              "</style>\n",
              "<table border=\"1\" class=\"dataframe\">\n",
              "  <thead>\n",
              "    <tr style=\"text-align: right;\">\n",
              "      <th></th>\n",
              "      <th>store_name</th>\n",
              "      <th>date</th>\n",
              "      <th>review</th>\n",
              "      <th>length</th>\n",
              "      <th>review_check</th>\n",
              "      <th>check_length</th>\n",
              "      <th>menu</th>\n",
              "      <th>mood</th>\n",
              "      <th>service</th>\n",
              "      <th>price</th>\n",
              "      <th>...</th>\n",
              "      <th>기리야마</th>\n",
              "      <th>시카고</th>\n",
              "      <th>대려도</th>\n",
              "      <th>신부자</th>\n",
              "      <th>봉추찜닭</th>\n",
              "      <th>리샨</th>\n",
              "      <th>Pavox</th>\n",
              "      <th>삼거리</th>\n",
              "      <th>느린마을</th>\n",
              "      <th>봉피양</th>\n",
              "    </tr>\n",
              "  </thead>\n",
              "  <tbody>\n",
              "    <tr>\n",
              "      <th>0</th>\n",
              "      <td>백억하누 강남본점</td>\n",
              "      <td>2020-01-03</td>\n",
              "      <td>네이버로 예약하고 방문했는데 사정이 있어 조용한 구석자리를 부탁한다고 썼는데도 구석...</td>\n",
              "      <td>358</td>\n",
              "      <td>네이버로 예약하고 방문했는데 사정이 있어 조용한 구석 자리를 부탁한다고 썼는데도 구...</td>\n",
              "      <td>370</td>\n",
              "      <td>1</td>\n",
              "      <td>1</td>\n",
              "      <td>1</td>\n",
              "      <td>1</td>\n",
              "      <td>...</td>\n",
              "      <td>0</td>\n",
              "      <td>0</td>\n",
              "      <td>0</td>\n",
              "      <td>0</td>\n",
              "      <td>0</td>\n",
              "      <td>0</td>\n",
              "      <td>0</td>\n",
              "      <td>0</td>\n",
              "      <td>0</td>\n",
              "      <td>0</td>\n",
              "    </tr>\n",
              "    <tr>\n",
              "      <th>1</th>\n",
              "      <td>강남진해장</td>\n",
              "      <td>2022-04-05</td>\n",
              "      <td>일반적인 양평해장국과 다르게  기본 간이 되어있고 베이스가 육개장과 뼈해장국같은 느...</td>\n",
              "      <td>343</td>\n",
              "      <td>일반적인 양평 해장국과 다르게 기본 간이 되어 있고 베이스가 육개장과 뼈해장국 같은...</td>\n",
              "      <td>348</td>\n",
              "      <td>1</td>\n",
              "      <td>1</td>\n",
              "      <td>1</td>\n",
              "      <td>1</td>\n",
              "      <td>...</td>\n",
              "      <td>0</td>\n",
              "      <td>0</td>\n",
              "      <td>0</td>\n",
              "      <td>0</td>\n",
              "      <td>0</td>\n",
              "      <td>0</td>\n",
              "      <td>0</td>\n",
              "      <td>0</td>\n",
              "      <td>0</td>\n",
              "      <td>0</td>\n",
              "    </tr>\n",
              "    <tr>\n",
              "      <th>2</th>\n",
              "      <td>백억하누 강남본점</td>\n",
              "      <td>2022-05-07</td>\n",
              "      <td>개인룸이 있고 룸안에 화장실이 있어  너무 편하고 좋았는데 옆에 개인 서랍이 있는지...</td>\n",
              "      <td>163</td>\n",
              "      <td>개인 룸이 있고 룸 안에 화장실이 있어 너무 편하고 좋았는데 옆에 개인 서랍이 있는...</td>\n",
              "      <td>165</td>\n",
              "      <td>1</td>\n",
              "      <td>1</td>\n",
              "      <td>1</td>\n",
              "      <td>0</td>\n",
              "      <td>...</td>\n",
              "      <td>0</td>\n",
              "      <td>0</td>\n",
              "      <td>0</td>\n",
              "      <td>0</td>\n",
              "      <td>0</td>\n",
              "      <td>0</td>\n",
              "      <td>0</td>\n",
              "      <td>0</td>\n",
              "      <td>0</td>\n",
              "      <td>0</td>\n",
              "    </tr>\n",
              "    <tr>\n",
              "      <th>3</th>\n",
              "      <td>딘타이펑 강남점</td>\n",
              "      <td>2019-11-21</td>\n",
              "      <td>분위기도 괜찮고 맛있어요 네이버예약 덕분에 에이드도 서비스로 나왔네요 가격은 비싸지...</td>\n",
              "      <td>59</td>\n",
              "      <td>분위기도 괜찮고 맛있어요 네이버예약 덕분에 에이드도 서비스로 나왔네요 가격은 비싸지...</td>\n",
              "      <td>59</td>\n",
              "      <td>1</td>\n",
              "      <td>1</td>\n",
              "      <td>1</td>\n",
              "      <td>1</td>\n",
              "      <td>...</td>\n",
              "      <td>0</td>\n",
              "      <td>0</td>\n",
              "      <td>0</td>\n",
              "      <td>0</td>\n",
              "      <td>0</td>\n",
              "      <td>0</td>\n",
              "      <td>0</td>\n",
              "      <td>0</td>\n",
              "      <td>0</td>\n",
              "      <td>0</td>\n",
              "    </tr>\n",
              "    <tr>\n",
              "      <th>4</th>\n",
              "      <td>백억하누 강남본점</td>\n",
              "      <td>2021-05-25</td>\n",
              "      <td>룸으로 이용했는데 화장실도 딸려있어서 너무 편했어요 삼합 재료들이 신선해서 생각보다...</td>\n",
              "      <td>265</td>\n",
              "      <td>룸으로 이용했는데 화장실도 딸려 있어서 너무 편했어요 삼합 재료들이 신선해서 생각보...</td>\n",
              "      <td>276</td>\n",
              "      <td>1</td>\n",
              "      <td>1</td>\n",
              "      <td>0</td>\n",
              "      <td>1</td>\n",
              "      <td>...</td>\n",
              "      <td>0</td>\n",
              "      <td>0</td>\n",
              "      <td>0</td>\n",
              "      <td>0</td>\n",
              "      <td>0</td>\n",
              "      <td>0</td>\n",
              "      <td>0</td>\n",
              "      <td>0</td>\n",
              "      <td>0</td>\n",
              "      <td>0</td>\n",
              "    </tr>\n",
              "  </tbody>\n",
              "</table>\n",
              "<p>5 rows × 48 columns</p>\n",
              "</div>\n",
              "      <button class=\"colab-df-convert\" onclick=\"convertToInteractive('df-d5ac3569-fdd9-4ffc-a164-b14997459bcd')\"\n",
              "              title=\"Convert this dataframe to an interactive table.\"\n",
              "              style=\"display:none;\">\n",
              "        \n",
              "  <svg xmlns=\"http://www.w3.org/2000/svg\" height=\"24px\"viewBox=\"0 0 24 24\"\n",
              "       width=\"24px\">\n",
              "    <path d=\"M0 0h24v24H0V0z\" fill=\"none\"/>\n",
              "    <path d=\"M18.56 5.44l.94 2.06.94-2.06 2.06-.94-2.06-.94-.94-2.06-.94 2.06-2.06.94zm-11 1L8.5 8.5l.94-2.06 2.06-.94-2.06-.94L8.5 2.5l-.94 2.06-2.06.94zm10 10l.94 2.06.94-2.06 2.06-.94-2.06-.94-.94-2.06-.94 2.06-2.06.94z\"/><path d=\"M17.41 7.96l-1.37-1.37c-.4-.4-.92-.59-1.43-.59-.52 0-1.04.2-1.43.59L10.3 9.45l-7.72 7.72c-.78.78-.78 2.05 0 2.83L4 21.41c.39.39.9.59 1.41.59.51 0 1.02-.2 1.41-.59l7.78-7.78 2.81-2.81c.8-.78.8-2.07 0-2.86zM5.41 20L4 18.59l7.72-7.72 1.47 1.35L5.41 20z\"/>\n",
              "  </svg>\n",
              "      </button>\n",
              "      \n",
              "  <style>\n",
              "    .colab-df-container {\n",
              "      display:flex;\n",
              "      flex-wrap:wrap;\n",
              "      gap: 12px;\n",
              "    }\n",
              "\n",
              "    .colab-df-convert {\n",
              "      background-color: #E8F0FE;\n",
              "      border: none;\n",
              "      border-radius: 50%;\n",
              "      cursor: pointer;\n",
              "      display: none;\n",
              "      fill: #1967D2;\n",
              "      height: 32px;\n",
              "      padding: 0 0 0 0;\n",
              "      width: 32px;\n",
              "    }\n",
              "\n",
              "    .colab-df-convert:hover {\n",
              "      background-color: #E2EBFA;\n",
              "      box-shadow: 0px 1px 2px rgba(60, 64, 67, 0.3), 0px 1px 3px 1px rgba(60, 64, 67, 0.15);\n",
              "      fill: #174EA6;\n",
              "    }\n",
              "\n",
              "    [theme=dark] .colab-df-convert {\n",
              "      background-color: #3B4455;\n",
              "      fill: #D2E3FC;\n",
              "    }\n",
              "\n",
              "    [theme=dark] .colab-df-convert:hover {\n",
              "      background-color: #434B5C;\n",
              "      box-shadow: 0px 1px 3px 1px rgba(0, 0, 0, 0.15);\n",
              "      filter: drop-shadow(0px 1px 2px rgba(0, 0, 0, 0.3));\n",
              "      fill: #FFFFFF;\n",
              "    }\n",
              "  </style>\n",
              "\n",
              "      <script>\n",
              "        const buttonEl =\n",
              "          document.querySelector('#df-d5ac3569-fdd9-4ffc-a164-b14997459bcd button.colab-df-convert');\n",
              "        buttonEl.style.display =\n",
              "          google.colab.kernel.accessAllowed ? 'block' : 'none';\n",
              "\n",
              "        async function convertToInteractive(key) {\n",
              "          const element = document.querySelector('#df-d5ac3569-fdd9-4ffc-a164-b14997459bcd');\n",
              "          const dataTable =\n",
              "            await google.colab.kernel.invokeFunction('convertToInteractive',\n",
              "                                                     [key], {});\n",
              "          if (!dataTable) return;\n",
              "\n",
              "          const docLinkHtml = 'Like what you see? Visit the ' +\n",
              "            '<a target=\"_blank\" href=https://colab.research.google.com/notebooks/data_table.ipynb>data table notebook</a>'\n",
              "            + ' to learn more about interactive tables.';\n",
              "          element.innerHTML = '';\n",
              "          dataTable['output_type'] = 'display_data';\n",
              "          await google.colab.output.renderOutput(dataTable, element);\n",
              "          const docLink = document.createElement('div');\n",
              "          docLink.innerHTML = docLinkHtml;\n",
              "          element.appendChild(docLink);\n",
              "        }\n",
              "      </script>\n",
              "    </div>\n",
              "  </div>\n",
              "  "
            ]
          },
          "metadata": {},
          "execution_count": 34
        }
      ]
    },
    {
      "cell_type": "code",
      "source": [
        "df.info()"
      ],
      "metadata": {
        "colab": {
          "base_uri": "https://localhost:8080/"
        },
        "id": "3TPC1OejBjwP",
        "outputId": "39fa78db-49f5-4a12-9910-d17856166bb9"
      },
      "execution_count": 35,
      "outputs": [
        {
          "output_type": "stream",
          "name": "stdout",
          "text": [
            "<class 'pandas.core.frame.DataFrame'>\n",
            "Int64Index: 7822 entries, 0 to 7821\n",
            "Data columns (total 48 columns):\n",
            " #   Column        Non-Null Count  Dtype \n",
            "---  ------        --------------  ----- \n",
            " 0   store_name    7822 non-null   object\n",
            " 1   date          7822 non-null   object\n",
            " 2   review        7822 non-null   object\n",
            " 3   length        7822 non-null   int64 \n",
            " 4   review_check  7822 non-null   object\n",
            " 5   check_length  7822 non-null   int64 \n",
            " 6   menu          7822 non-null   int64 \n",
            " 7   mood          7822 non-null   int64 \n",
            " 8   service       7822 non-null   int64 \n",
            " 9   price         7822 non-null   int64 \n",
            " 10  clean         7822 non-null   int64 \n",
            " 11  room          7822 non-null   int64 \n",
            " 12  parking       7822 non-null   int64 \n",
            " 13  photo         7822 non-null   int64 \n",
            " 14  sum           7822 non-null   int64 \n",
            " 15  helpful       7822 non-null   int64 \n",
            " 16  맛             7822 non-null   int64 \n",
            " 17  맛집            7822 non-null   int64 \n",
            " 18  메뉴_음식         7822 non-null   int64 \n",
            " 19  친절_직원         7822 non-null   int64 \n",
            " 20  때             7822 non-null   int64 \n",
            " 21  예약            7822 non-null   int64 \n",
            " 22  가격            7822 non-null   int64 \n",
            " 23  분위기           7822 non-null   int64 \n",
            " 24  추천            7822 non-null   int64 \n",
            " 25  store         7822 non-null   int64 \n",
            " 26  딘타이펑          7822 non-null   int64 \n",
            " 27  백억하누          7822 non-null   int64 \n",
            " 28  화기애애          7822 non-null   int64 \n",
            " 29  라그릴리아         7822 non-null   int64 \n",
            " 30  강남진해장         7822 non-null   int64 \n",
            " 31  구스            7822 non-null   int64 \n",
            " 32  파파야리프         7822 non-null   int64 \n",
            " 33  고양이부엌         7822 non-null   int64 \n",
            " 34  시골야채된장        7822 non-null   int64 \n",
            " 35  을밀대           7822 non-null   int64 \n",
            " 36  담소            7822 non-null   int64 \n",
            " 37  청류벽           7822 non-null   int64 \n",
            " 38  기리야마          7822 non-null   int64 \n",
            " 39  시카고           7822 non-null   int64 \n",
            " 40  대려도           7822 non-null   int64 \n",
            " 41  신부자           7822 non-null   int64 \n",
            " 42  봉추찜닭          7822 non-null   int64 \n",
            " 43  리샨            7822 non-null   int64 \n",
            " 44  Pavox         7822 non-null   int64 \n",
            " 45  삼거리           7822 non-null   int64 \n",
            " 46  느린마을          7822 non-null   int64 \n",
            " 47  봉피양           7822 non-null   int64 \n",
            "dtypes: int64(44), object(4)\n",
            "memory usage: 2.9+ MB\n"
          ]
        }
      ]
    },
    {
      "cell_type": "code",
      "source": [
        "df.columns"
      ],
      "metadata": {
        "colab": {
          "base_uri": "https://localhost:8080/"
        },
        "id": "NdwLFXZ4tjsh",
        "outputId": "40437506-b6d1-41c9-9328-b1bf1557dc7a"
      },
      "execution_count": 36,
      "outputs": [
        {
          "output_type": "execute_result",
          "data": {
            "text/plain": [
              "Index(['store_name', 'date', 'review', 'length', 'review_check',\n",
              "       'check_length', 'menu', 'mood', 'service', 'price', 'clean', 'room',\n",
              "       'parking', 'photo', 'sum', 'helpful', '맛', '맛집', '메뉴_음식', '친절_직원', '때',\n",
              "       '예약', '가격', '분위기', '추천', 'store', '딘타이펑', '백억하누', '화기애애', '라그릴리아',\n",
              "       '강남진해장', '구스', '파파야리프', '고양이부엌', '시골야채된장', '을밀대', '담소', '청류벽', '기리야마',\n",
              "       '시카고', '대려도', '신부자', '봉추찜닭', '리샨', 'Pavox', '삼거리', '느린마을', '봉피양'],\n",
              "      dtype='object')"
            ]
          },
          "metadata": {},
          "execution_count": 36
        }
      ]
    },
    {
      "cell_type": "markdown",
      "source": [
        "### (2) 가게 숫자 바꿔보기"
      ],
      "metadata": {
        "id": "rAbIibyQMRMg"
      }
    },
    {
      "cell_type": "markdown",
      "source": [
        "#### 1) df\n",
        "- 모든 가게 있는 그룹"
      ],
      "metadata": {
        "id": "qzpBwMvFWPU2"
      }
    },
    {
      "cell_type": "code",
      "source": [
        "df['store_name'].unique(), len(df['store_name'].unique())"
      ],
      "metadata": {
        "colab": {
          "base_uri": "https://localhost:8080/"
        },
        "id": "aQ3fZ-TIWUSp",
        "outputId": "7f22d43a-38a4-47c3-f410-eba3f20896db"
      },
      "execution_count": 40,
      "outputs": [
        {
          "output_type": "execute_result",
          "data": {
            "text/plain": [
              "(array(['백억하누 강남본점', '강남진해장', '딘타이펑 강남점', '삼거리포차', '화기애애 강남역점',\n",
              "        '느린마을양조장 강남점', '시골야채된장', '봉피양제주 강남점', '라그릴리아 SPC스퀘어점', '청류벽',\n",
              "        '대려도', '신부자식당', '리샨 삼성타운점', '구스아일랜드 브루하우스', '을밀대 강남점', '파파야리프',\n",
              "        '고양이부엌', '오리지널시카고피자', 'Pavox', '우동명가기리야마본진', '담소사골순대 강남본점',\n",
              "        '봉추찜닭 강남주공공이점'], dtype=object), 22)"
            ]
          },
          "metadata": {},
          "execution_count": 40
        }
      ]
    },
    {
      "cell_type": "markdown",
      "source": [
        "#### 2) df2\n",
        "- 리뷰 개수가 제일 많은(1000개 이상되는) 식당 제거 그룹\n",
        "- 제거된 식당: 딘타이펑, 백억하누"
      ],
      "metadata": {
        "id": "J5vXr26ETfrW"
      }
    },
    {
      "cell_type": "code",
      "source": [
        "df2=df.copy()\n",
        "df2=df2[df2['store_name']!='딘타이펑 강남점']\n",
        "df2=df2[df2['store_name']!='백억하누 강남본점']\n",
        "df2=df2.reset_index(drop=True)\n",
        "df2['store_name'].unique(), len(df2['store_name'].unique())"
      ],
      "metadata": {
        "colab": {
          "base_uri": "https://localhost:8080/"
        },
        "id": "NvZfV2SGl2kP",
        "outputId": "e800dfca-0a3f-49c1-d199-c52f5a4a1c52"
      },
      "execution_count": 41,
      "outputs": [
        {
          "output_type": "execute_result",
          "data": {
            "text/plain": [
              "(array(['강남진해장', '삼거리포차', '화기애애 강남역점', '느린마을양조장 강남점', '시골야채된장',\n",
              "        '봉피양제주 강남점', '라그릴리아 SPC스퀘어점', '청류벽', '대려도', '신부자식당', '리샨 삼성타운점',\n",
              "        '구스아일랜드 브루하우스', '을밀대 강남점', '파파야리프', '고양이부엌', '오리지널시카고피자', 'Pavox',\n",
              "        '우동명가기리야마본진', '담소사골순대 강남본점', '봉추찜닭 강남주공공이점'], dtype=object), 20)"
            ]
          },
          "metadata": {},
          "execution_count": 41
        }
      ]
    },
    {
      "cell_type": "markdown",
      "source": [
        "#### 3) df3\n",
        "- 리뷰 개수가 많은 상위 7개 식당 제거 그룹\n",
        "- 제거된 식당: 딘타이펑, 백억하누, 느린마을양조장, 화기애애, 라그릴리아, 강남진해장, 구스아일랜드"
      ],
      "metadata": {
        "id": "7bHif4j1MUVB"
      }
    },
    {
      "cell_type": "code",
      "source": [
        "df3=df.copy()\n",
        "df3=df3[df3['store_name']!='딘타이펑 강남점']\n",
        "df3=df3[df3['store_name']!='백억하누 강남본점']\n",
        "df3=df3[df3['store_name']!='느린마을양조장 강남점']\n",
        "df3=df3[df3['store_name']!='화기애애 강남역점']\n",
        "df3=df3[df3['store_name']!='라그릴리아 SPC스퀘어점']\n",
        "df3=df3[df3['store_name']!='강남진해장']\n",
        "df3=df3[df3['store_name']!='구스아일랜드 브루하우스']\n",
        "df3=df3.reset_index(drop=True)\n",
        "df3['store_name'].unique(), len(df3['store_name'].unique())"
      ],
      "metadata": {
        "colab": {
          "base_uri": "https://localhost:8080/"
        },
        "id": "zc3hL0WPrNk4",
        "outputId": "362980cc-36a1-411f-ab65-c43bd7954c35"
      },
      "execution_count": 42,
      "outputs": [
        {
          "output_type": "execute_result",
          "data": {
            "text/plain": [
              "(array(['삼거리포차', '시골야채된장', '봉피양제주 강남점', '청류벽', '대려도', '신부자식당', '리샨 삼성타운점',\n",
              "        '을밀대 강남점', '파파야리프', '고양이부엌', '오리지널시카고피자', 'Pavox', '우동명가기리야마본진',\n",
              "        '담소사골순대 강남본점', '봉추찜닭 강남주공공이점'], dtype=object), 15)"
            ]
          },
          "metadata": {},
          "execution_count": 42
        }
      ]
    },
    {
      "cell_type": "markdown",
      "source": [
        "#### 4) df4\n",
        "- 리뷰 개수가 중간층에 있는 식당 8개 제거 그룹\n",
        "- 제거된 식당: 파파야리프, 고양리부엌, 시골야채된장, 을밀대, 담소사골순대, 청류벽, 우동명가기리야마본진, 신부자식당"
      ],
      "metadata": {
        "id": "CsuaijXWMWn3"
      }
    },
    {
      "cell_type": "code",
      "source": [
        "df4=df.copy()\n",
        "df4=df4[df4['store_name']!='파파야리프']\n",
        "df4=df4[df4['store_name']!='고양이부엌']\n",
        "df4=df4[df4['store_name']!='시골야채된장']\n",
        "df4=df4[df4['store_name']!='을밀대 강남점']\n",
        "df4=df4[df4['store_name']!='담소사골순대 강남본점']\n",
        "df4=df4[df4['store_name']!='청류벽']\n",
        "df4=df4[df4['store_name']!='우동명가기리야마본진']\n",
        "df4=df4[df4['store_name']!='신부자식당']\n",
        "df4=df4.reset_index(drop=True)\n",
        "df4['store_name'].unique(), len(df4['store_name'].unique())"
      ],
      "metadata": {
        "colab": {
          "base_uri": "https://localhost:8080/"
        },
        "id": "KaY-9l3Jr_j4",
        "outputId": "c8dcc1f6-a4a1-42a3-85d5-f75ce3218286"
      },
      "execution_count": 39,
      "outputs": [
        {
          "output_type": "execute_result",
          "data": {
            "text/plain": [
              "(array(['백억하누 강남본점', '강남진해장', '딘타이펑 강남점', '삼거리포차', '화기애애 강남역점',\n",
              "        '느린마을양조장 강남점', '봉피양제주 강남점', '라그릴리아 SPC스퀘어점', '대려도', '리샨 삼성타운점',\n",
              "        '구스아일랜드 브루하우스', '오리지널시카고피자', 'Pavox', '봉추찜닭 강남주공공이점'], dtype=object),\n",
              " 14)"
            ]
          },
          "metadata": {},
          "execution_count": 39
        }
      ]
    },
    {
      "cell_type": "markdown",
      "source": [
        "### (3) 토큰화 함수 만들기"
      ],
      "metadata": {
        "id": "YRJHOe0kPp6x"
      }
    },
    {
      "cell_type": "markdown",
      "source": [
        "#### 1) getNVM_lemma1\n",
        "- NNG, NNP만 이용"
      ],
      "metadata": {
        "id": "oWRSyHfpW6_T"
      }
    },
    {
      "cell_type": "code",
      "source": [
        "def getNVM_lemma1(text):\n",
        "    tokenizer = MeCab.Tagger()\n",
        "    parsed = tokenizer.parse(text)\n",
        "    #print(parsed)\n",
        "    word_tag = [w for w in parsed.split(\"\\n\")] \n",
        "    pos = []\n",
        "    tags = ['NNG', 'NNP']\n",
        "   \n",
        "    for word_ in word_tag[:-2]:\n",
        "        word = word_.split('\\t') #['아버지', 'NNG,*,F,아버지,*,*,*,*']\n",
        "        tag = word[1].split(\",\")  #['EC', '*', 'F', '는다', '*', '*', '*', '*']\n",
        "        # if('+' in tag[0]): #단어가 여러 형태소로 구성된 경우\n",
        "        #     if ('VV' in tag[0] or 'VA' in tag[0] or 'VX' in tag[0]):\n",
        "        #         t = tag[-1].split('/')[0]\n",
        "        #         if t not in stop_words:\n",
        "        #             pos.append(t)\n",
        "        if tag[0] in tags:\n",
        "          pos.append(word[0])\n",
        "    return pos"
      ],
      "metadata": {
        "id": "oaWqJmQRFo-u"
      },
      "execution_count": 44,
      "outputs": []
    },
    {
      "cell_type": "markdown",
      "source": [
        "### (4) Logistic Regression"
      ],
      "metadata": {
        "id": "7Phf56_7Vblt"
      }
    },
    {
      "cell_type": "markdown",
      "source": [
        "#### 1) df + lemma1"
      ],
      "metadata": {
        "id": "nBBktiImXe8P"
      }
    },
    {
      "cell_type": "markdown",
      "source": [
        "##### tfidf, count Vector"
      ],
      "metadata": {
        "id": "__88bMnBMbge"
      }
    },
    {
      "cell_type": "code",
      "source": [
        "tfidf = TfidfVectorizer(ngram_range=(1,2),tokenizer = getNVM_lemma1, preprocessor = None, lowercase = False)\n",
        "cv = CountVectorizer(ngram_range=(1,2),tokenizer = getNVM_lemma1, preprocessor = None, lowercase = False)\n",
        "tdm_tfidf = tfidf.fit_transform(df['review_check'].values.astype('U'))\n",
        "tdm_cv= cv.fit_transform(df['review_check'].values.astype('U'))"
      ],
      "metadata": {
        "id": "iwxnqWfHcRuX"
      },
      "execution_count": 46,
      "outputs": []
    },
    {
      "cell_type": "markdown",
      "source": [
        "##### x (feature)"
      ],
      "metadata": {
        "id": "uZfljniNMeKo"
      }
    },
    {
      "cell_type": "code",
      "source": [
        "df['store_name'].value_counts()"
      ],
      "metadata": {
        "colab": {
          "base_uri": "https://localhost:8080/"
        },
        "id": "Rj5iHHy3X32v",
        "outputId": "b8b00738-f989-4d54-d8d9-6e35fcfa8a93"
      },
      "execution_count": 56,
      "outputs": [
        {
          "output_type": "execute_result",
          "data": {
            "text/plain": [
              "딘타이펑 강남점         1296\n",
              "백억하누 강남본점        1111\n",
              "느린마을양조장 강남점       624\n",
              "화기애애 강남역점         504\n",
              "라그릴리아 SPC스퀘어점     435\n",
              "강남진해장             424\n",
              "구스아일랜드 브루하우스      404\n",
              "파파야리프             353\n",
              "고양이부엌             331\n",
              "시골야채된장            286\n",
              "을밀대 강남점           283\n",
              "담소사골순대 강남본점       278\n",
              "청류벽               269\n",
              "우동명가기리야마본진        268\n",
              "신부자식당             247\n",
              "오리지널시카고피자         183\n",
              "대려도               157\n",
              "봉추찜닭 강남주공공이점      131\n",
              "리샨 삼성타운점          112\n",
              "봉피양제주 강남점          71\n",
              "Pavox              29\n",
              "삼거리포차              26\n",
              "Name: store_name, dtype: int64"
            ]
          },
          "metadata": {},
          "execution_count": 56
        }
      ]
    },
    {
      "cell_type": "code",
      "source": [
        "x_tf = tdm_tfidf.toarray()\n",
        "x_tf_len = []\n",
        "for i in range(len(x_tf)):\n",
        "    a = x_tf[i]\n",
        "    a = np.append(a, np.log(df['check_length'][i]+1)) # 길이 컬럼 추가\n",
        "\n",
        "    a = np.append(a, df['딘타이펑'][i])    \n",
        "    a = np.append(a, df['백억하누'][i])\n",
        "    a = np.append(a, df['느린마을'][i])   \n",
        "    a = np.append(a, df['화기애애'][i])    \n",
        "    a = np.append(a, df['라그릴리아'][i])    \n",
        "    a = np.append(a, df['강남진해장'][i])    \n",
        "    a = np.append(a, df['구스'][i])\n",
        "    a = np.append(a, df['파파야리프'][i])   \n",
        "    a = np.append(a, df['고양이부엌'][i])    \n",
        "    a = np.append(a, df['시골야채된장'][i])    \n",
        "    a = np.append(a, df['을밀대'][i])    \n",
        "    a = np.append(a, df['담소'][i])\n",
        "    a = np.append(a, df['청류벽'][i])    \n",
        "    a = np.append(a, df['기리야마'][i])\n",
        "    a = np.append(a, df['신부자'][i])    \n",
        "    a = np.append(a, df['시카고'][i])    \n",
        "    a = np.append(a, df['대려도'][i])    \n",
        "    a = np.append(a, df['봉추찜닭'][i])    \n",
        "    a = np.append(a, df['리샨'][i])\n",
        "    a = np.append(a, df['봉피양'][i])       \n",
        "    a = np.append(a, df['Pavox'][i])    \n",
        "    a = np.append(a, df['삼거리'][i])  \n",
        "\n",
        "    x_tf_len.append(a)"
      ],
      "metadata": {
        "id": "2-JkMPhAcfJY"
      },
      "execution_count": 57,
      "outputs": []
    },
    {
      "cell_type": "markdown",
      "source": [
        "##### countvector 추가"
      ],
      "metadata": {
        "id": "tU1fFOhEMiJK"
      }
    },
    {
      "cell_type": "code",
      "source": [
        "x_cv = tdm_cv.toarray() # TDM (countvector) 추가\n",
        "x_cv_len = []\n",
        "for i in range(len(x_cv)):\n",
        "    a = x_cv[i]\n",
        "    a = np.append(a,np.log(df['check_length'][i]+1)) # 길이 컬럼 추가\n",
        " \n",
        "    a = np.append(a, df['딘타이펑'][i])    \n",
        "    a = np.append(a, df['백억하누'][i])\n",
        "    a = np.append(a, df['느린마을'][i])   \n",
        "    a = np.append(a, df['화기애애'][i])    \n",
        "    a = np.append(a, df['라그릴리아'][i])    \n",
        "    a = np.append(a, df['강남진해장'][i])    \n",
        "    a = np.append(a, df['구스'][i])\n",
        "    a = np.append(a, df['파파야리프'][i])   \n",
        "    a = np.append(a, df['고양이부엌'][i])    \n",
        "    a = np.append(a, df['시골야채된장'][i])    \n",
        "    a = np.append(a, df['을밀대'][i])    \n",
        "    a = np.append(a, df['담소'][i])\n",
        "    a = np.append(a, df['청류벽'][i])    \n",
        "    a = np.append(a, df['기리야마'][i])\n",
        "    a = np.append(a, df['신부자'][i])    \n",
        "    a = np.append(a, df['시카고'][i])    \n",
        "    a = np.append(a, df['대려도'][i])    \n",
        "    a = np.append(a, df['봉추찜닭'][i])    \n",
        "    a = np.append(a, df['리샨'][i])\n",
        "    a = np.append(a, df['봉피양'][i])       \n",
        "    a = np.append(a, df['Pavox'][i])    \n",
        "    a = np.append(a, df['삼거리'][i])  \n",
        " \n",
        "    a = np.append(a, df['맛'][i])\n",
        "    a = np.append(a, df['맛집'][i])\n",
        "    a = np.append(a, df['메뉴_음식'][i])\n",
        "    a = np.append(a, df['친절_직원'][i])\n",
        "    a = np.append(a, df['때'][i])\n",
        "    a = np.append(a, df['예약'][i])\n",
        "    a = np.append(a, df['가격'][i])\n",
        "    a = np.append(a, df['분위기'][i])\n",
        "    a = np.append(a, df['추천'][i])  \n",
        "\n",
        "    x_cv_len.append(a)"
      ],
      "metadata": {
        "id": "PGfAbRNacr8L"
      },
      "execution_count": 58,
      "outputs": []
    },
    {
      "cell_type": "code",
      "source": [
        "len(x_tf_len[0]), len(x_cv_len[0])"
      ],
      "metadata": {
        "colab": {
          "base_uri": "https://localhost:8080/"
        },
        "id": "aN6E6NR_ewEP",
        "outputId": "450615ed-24e0-4551-b3bb-daaa7bc942aa"
      },
      "execution_count": 59,
      "outputs": [
        {
          "output_type": "execute_result",
          "data": {
            "text/plain": [
              "(20571, 20580)"
            ]
          },
          "metadata": {},
          "execution_count": 59
        }
      ]
    },
    {
      "cell_type": "markdown",
      "source": [
        "##### y(target)"
      ],
      "metadata": {
        "id": "gBkrooG8Moua"
      }
    },
    {
      "cell_type": "code",
      "source": [
        "y = df['helpful']"
      ],
      "metadata": {
        "id": "2wqEAX8Jd8u9"
      },
      "execution_count": 60,
      "outputs": []
    },
    {
      "cell_type": "markdown",
      "source": [
        "##### 학습하기"
      ],
      "metadata": {
        "id": "1UJnKIJsMqlK"
      }
    },
    {
      "cell_type": "code",
      "source": [
        "x_train, x_test, y_train, y_test = train_test_split(x_cv_len, y, test_size=0.2, random_state=42)"
      ],
      "metadata": {
        "id": "Uyfjx_zLedK7"
      },
      "execution_count": 62,
      "outputs": []
    },
    {
      "cell_type": "code",
      "source": [
        "clf_cv = LogisticRegression(random_state = 42, C=0.1, max_iter = 100).fit(x_train,y_train)\n",
        "pred = clf_cv.predict(x_test)\n",
        "accuracy_score(y_test, pred)"
      ],
      "metadata": {
        "colab": {
          "base_uri": "https://localhost:8080/"
        },
        "id": "Xh2wSyYleo74",
        "outputId": "d3999f23-b748-4939-e45d-fc27ee08d2d7"
      },
      "execution_count": 70,
      "outputs": [
        {
          "output_type": "execute_result",
          "data": {
            "text/plain": [
              "0.8805111821086262"
            ]
          },
          "metadata": {},
          "execution_count": 70
        }
      ]
    },
    {
      "cell_type": "code",
      "source": [
        "x2_train, x2_test, y2_train, y2_test = train_test_split(x_tf_len, y, test_size=0.2, random_state=42)"
      ],
      "metadata": {
        "id": "otz9TLzpgNBE"
      },
      "execution_count": 71,
      "outputs": []
    },
    {
      "cell_type": "code",
      "source": [
        "clf_tf = LogisticRegression(random_state = 42, C=0.1, max_iter = 100).fit(x2_train,y2_train)\n",
        "pred2 = clf_tf.predict(x2_test)\n",
        "accuracy_score(y2_test, pred2)"
      ],
      "metadata": {
        "colab": {
          "base_uri": "https://localhost:8080/"
        },
        "id": "5W1JgFrggYBd",
        "outputId": "72df59f9-6798-41c9-e9b9-97954528a66f"
      },
      "execution_count": 72,
      "outputs": [
        {
          "output_type": "execute_result",
          "data": {
            "text/plain": [
              "0.8594249201277955"
            ]
          },
          "metadata": {},
          "execution_count": 72
        }
      ]
    },
    {
      "cell_type": "markdown",
      "source": [
        "##### 결과\n",
        "- countvector 추가한 그룹이 정확도 더 높음 (88% vs 85.9%)"
      ],
      "metadata": {
        "id": "KlXAAy7qMu1n"
      }
    },
    {
      "cell_type": "markdown",
      "source": [
        "#### 2) df2 + lemma1"
      ],
      "metadata": {
        "id": "yHKVI_Yvae_O"
      }
    },
    {
      "cell_type": "markdown",
      "source": [
        "##### tfidf, count Vector"
      ],
      "metadata": {
        "id": "BdPrYxbBae_O"
      }
    },
    {
      "cell_type": "code",
      "source": [
        "tfidf = TfidfVectorizer(ngram_range=(1,2),tokenizer = getNVM_lemma1, preprocessor = None, lowercase = False)\n",
        "cv = CountVectorizer(ngram_range=(1,2),tokenizer = getNVM_lemma1, preprocessor = None, lowercase = False)\n",
        "tdm_tfidf = tfidf.fit_transform(df2['review_check'].values.astype('U'))\n",
        "tdm_cv= cv.fit_transform(df2['review_check'].values.astype('U'))"
      ],
      "metadata": {
        "id": "4Mgo7wTsae_O"
      },
      "execution_count": 73,
      "outputs": []
    },
    {
      "cell_type": "markdown",
      "source": [
        "##### x (feature)"
      ],
      "metadata": {
        "id": "HSJ4Eo_Zae_P"
      }
    },
    {
      "cell_type": "code",
      "source": [
        "df2['store_name'].value_counts()"
      ],
      "metadata": {
        "colab": {
          "base_uri": "https://localhost:8080/"
        },
        "outputId": "cefb64c5-baf7-45b2-f458-fc091773fc88",
        "id": "lRHAqpBDae_P"
      },
      "execution_count": 74,
      "outputs": [
        {
          "output_type": "execute_result",
          "data": {
            "text/plain": [
              "느린마을양조장 강남점      624\n",
              "화기애애 강남역점        504\n",
              "라그릴리아 SPC스퀘어점    435\n",
              "강남진해장            424\n",
              "구스아일랜드 브루하우스     404\n",
              "파파야리프            353\n",
              "고양이부엌            331\n",
              "시골야채된장           286\n",
              "을밀대 강남점          283\n",
              "담소사골순대 강남본점      278\n",
              "청류벽              269\n",
              "우동명가기리야마본진       268\n",
              "신부자식당            247\n",
              "오리지널시카고피자        183\n",
              "대려도              157\n",
              "봉추찜닭 강남주공공이점     131\n",
              "리샨 삼성타운점         112\n",
              "봉피양제주 강남점         71\n",
              "Pavox             29\n",
              "삼거리포차             26\n",
              "Name: store_name, dtype: int64"
            ]
          },
          "metadata": {},
          "execution_count": 74
        }
      ]
    },
    {
      "cell_type": "code",
      "source": [
        "x_tf = tdm_tfidf.toarray()\n",
        "x_tf_len = []\n",
        "for i in range(len(x_tf)):\n",
        "    a = x_tf[i]\n",
        "    a = np.append(a, np.log(df2['check_length'][i]+1)) # 길이 컬럼 추가\n",
        "\n",
        "    a = np.append(a, df2['느린마을'][i])   \n",
        "    a = np.append(a, df2['화기애애'][i])    \n",
        "    a = np.append(a, df2['라그릴리아'][i])    \n",
        "    a = np.append(a, df2['강남진해장'][i])    \n",
        "    a = np.append(a, df2['구스'][i])\n",
        "    a = np.append(a, df2['파파야리프'][i])   \n",
        "    a = np.append(a, df2['고양이부엌'][i])    \n",
        "    a = np.append(a, df2['시골야채된장'][i])    \n",
        "    a = np.append(a, df2['을밀대'][i])    \n",
        "    a = np.append(a, df2['담소'][i])\n",
        "    a = np.append(a, df2['청류벽'][i])    \n",
        "    a = np.append(a, df2['기리야마'][i])\n",
        "    a = np.append(a, df2['신부자'][i])    \n",
        "    a = np.append(a, df2['시카고'][i])    \n",
        "    a = np.append(a, df2['대려도'][i])    \n",
        "    a = np.append(a, df2['봉추찜닭'][i])    \n",
        "    a = np.append(a, df2['리샨'][i])\n",
        "    a = np.append(a, df2['봉피양'][i])       \n",
        "    a = np.append(a, df2['Pavox'][i])    \n",
        "    a = np.append(a, df2['삼거리'][i])  \n",
        "\n",
        "    x_tf_len.append(a)"
      ],
      "metadata": {
        "id": "JZIQ9DKFae_P"
      },
      "execution_count": 75,
      "outputs": []
    },
    {
      "cell_type": "markdown",
      "source": [
        "##### countvector 추가"
      ],
      "metadata": {
        "id": "8TGOQ9jCae_Q"
      }
    },
    {
      "cell_type": "code",
      "source": [
        "x_cv = tdm_cv.toarray() # TDM (countvector) 추가\n",
        "x_cv_len = []\n",
        "for i in range(len(x_cv)):\n",
        "    a = x_cv[i]\n",
        "    a = np.append(a,np.log(df2['check_length'][i]+1)) # 길이 컬럼 추가\n",
        " \n",
        "    a = np.append(a, df2['느린마을'][i])   \n",
        "    a = np.append(a, df2['화기애애'][i])    \n",
        "    a = np.append(a, df2['라그릴리아'][i])    \n",
        "    a = np.append(a, df2['강남진해장'][i])    \n",
        "    a = np.append(a, df2['구스'][i])\n",
        "    a = np.append(a, df2['파파야리프'][i])   \n",
        "    a = np.append(a, df2['고양이부엌'][i])    \n",
        "    a = np.append(a, df2['시골야채된장'][i])    \n",
        "    a = np.append(a, df2['을밀대'][i])    \n",
        "    a = np.append(a, df2['담소'][i])\n",
        "    a = np.append(a, df2['청류벽'][i])    \n",
        "    a = np.append(a, df2['기리야마'][i])\n",
        "    a = np.append(a, df2['신부자'][i])    \n",
        "    a = np.append(a, df2['시카고'][i])    \n",
        "    a = np.append(a, df2['대려도'][i])    \n",
        "    a = np.append(a, df2['봉추찜닭'][i])    \n",
        "    a = np.append(a, df2['리샨'][i])\n",
        "    a = np.append(a, df2['봉피양'][i])       \n",
        "    a = np.append(a, df2['Pavox'][i])    \n",
        "    a = np.append(a, df2['삼거리'][i])  \n",
        " \n",
        "    a = np.append(a, df2['맛'][i])\n",
        "    a = np.append(a, df2['맛집'][i])\n",
        "    a = np.append(a, df2['메뉴_음식'][i])\n",
        "    a = np.append(a, df2['친절_직원'][i])\n",
        "    a = np.append(a, df2['때'][i])\n",
        "    a = np.append(a, df2['예약'][i])\n",
        "    a = np.append(a, df2['가격'][i])\n",
        "    a = np.append(a, df2['분위기'][i])\n",
        "    a = np.append(a, df2['추천'][i])  \n",
        "\n",
        "    x_cv_len.append(a)"
      ],
      "metadata": {
        "id": "7XkYpsd9ae_Q"
      },
      "execution_count": 76,
      "outputs": []
    },
    {
      "cell_type": "code",
      "source": [
        "len(x_tf_len[0]), len(x_cv_len[0])"
      ],
      "metadata": {
        "colab": {
          "base_uri": "https://localhost:8080/"
        },
        "outputId": "e943171b-e8b1-4f97-c61b-85ad0bb0f3bc",
        "id": "k2gKlRDgae_Q"
      },
      "execution_count": 78,
      "outputs": [
        {
          "output_type": "execute_result",
          "data": {
            "text/plain": [
              "(14248, 14257)"
            ]
          },
          "metadata": {},
          "execution_count": 78
        }
      ]
    },
    {
      "cell_type": "markdown",
      "source": [
        "##### y(target)"
      ],
      "metadata": {
        "id": "bRVdL1t1ae_R"
      }
    },
    {
      "cell_type": "code",
      "source": [
        "y = df2['helpful']"
      ],
      "metadata": {
        "id": "BVftlmE-ae_R"
      },
      "execution_count": 77,
      "outputs": []
    },
    {
      "cell_type": "markdown",
      "source": [
        "##### 학습하기"
      ],
      "metadata": {
        "id": "DqMb6ZkCae_R"
      }
    },
    {
      "cell_type": "code",
      "source": [
        "x_train, x_test, y_train, y_test = train_test_split(x_cv_len, y, test_size=0.2, random_state=42)"
      ],
      "metadata": {
        "id": "joGYJI0Hae_R"
      },
      "execution_count": 79,
      "outputs": []
    },
    {
      "cell_type": "code",
      "source": [
        "clf_cv = LogisticRegression(random_state = 42, C=0.1, max_iter = 100).fit(x_train,y_train)\n",
        "pred = clf_cv.predict(x_test)\n",
        "accuracy_score(y_test, pred)"
      ],
      "metadata": {
        "colab": {
          "base_uri": "https://localhost:8080/"
        },
        "outputId": "69524d96-b8a6-4d53-e685-5e1c14fc3274",
        "id": "gHB189rrae_S"
      },
      "execution_count": 80,
      "outputs": [
        {
          "output_type": "execute_result",
          "data": {
            "text/plain": [
              "0.8956602031394275"
            ]
          },
          "metadata": {},
          "execution_count": 80
        }
      ]
    },
    {
      "cell_type": "code",
      "source": [
        "x2_train, x2_test, y2_train, y2_test = train_test_split(x_tf_len, y, test_size=0.2, random_state=42)"
      ],
      "metadata": {
        "id": "TJN2N99Dae_S"
      },
      "execution_count": 81,
      "outputs": []
    },
    {
      "cell_type": "code",
      "source": [
        "clf_tf = LogisticRegression(random_state = 42, C=0.1, max_iter = 100).fit(x2_train,y2_train)\n",
        "pred2 = clf_tf.predict(x2_test)\n",
        "accuracy_score(y2_test, pred2)"
      ],
      "metadata": {
        "colab": {
          "base_uri": "https://localhost:8080/"
        },
        "outputId": "d3fcce5e-1b2a-4d65-c0d7-1feace3162ed",
        "id": "o9LnFJIQae_T"
      },
      "execution_count": 82,
      "outputs": [
        {
          "output_type": "execute_result",
          "data": {
            "text/plain": [
              "0.863342566943675"
            ]
          },
          "metadata": {},
          "execution_count": 82
        }
      ]
    },
    {
      "cell_type": "markdown",
      "source": [
        "##### 결과\n",
        "- countvector 추가한 그룹이 정확도 더 높음 (89.6% vs 86.3%)"
      ],
      "metadata": {
        "id": "Qr6JSdypae_R"
      }
    },
    {
      "cell_type": "markdown",
      "source": [
        "#### 3) df3 + lemma1"
      ],
      "metadata": {
        "id": "KUmPssbQbfnW"
      }
    },
    {
      "cell_type": "markdown",
      "source": [
        "##### tfidf, count Vector"
      ],
      "metadata": {
        "id": "EJtfht0fbfnW"
      }
    },
    {
      "cell_type": "code",
      "source": [
        "tfidf = TfidfVectorizer(ngram_range=(1,2),tokenizer = getNVM_lemma1, preprocessor = None, lowercase = False)\n",
        "cv = CountVectorizer(ngram_range=(1,2),tokenizer = getNVM_lemma1, preprocessor = None, lowercase = False)\n",
        "tdm_tfidf = tfidf.fit_transform(df3['review_check'].values.astype('U'))\n",
        "tdm_cv= cv.fit_transform(df3['review_check'].values.astype('U'))"
      ],
      "metadata": {
        "id": "8dT97J3ibfnX"
      },
      "execution_count": 83,
      "outputs": []
    },
    {
      "cell_type": "markdown",
      "source": [
        "##### x (feature)"
      ],
      "metadata": {
        "id": "93xlNFnEbfnX"
      }
    },
    {
      "cell_type": "code",
      "source": [
        "df3['store_name'].value_counts()"
      ],
      "metadata": {
        "colab": {
          "base_uri": "https://localhost:8080/"
        },
        "outputId": "9fb7f30e-e0f1-4d37-b6fb-c678b6538985",
        "id": "hSzjKrBebfnX"
      },
      "execution_count": 84,
      "outputs": [
        {
          "output_type": "execute_result",
          "data": {
            "text/plain": [
              "파파야리프           353\n",
              "고양이부엌           331\n",
              "시골야채된장          286\n",
              "을밀대 강남점         283\n",
              "담소사골순대 강남본점     278\n",
              "청류벽             269\n",
              "우동명가기리야마본진      268\n",
              "신부자식당           247\n",
              "오리지널시카고피자       183\n",
              "대려도             157\n",
              "봉추찜닭 강남주공공이점    131\n",
              "리샨 삼성타운점        112\n",
              "봉피양제주 강남점        71\n",
              "Pavox            29\n",
              "삼거리포차            26\n",
              "Name: store_name, dtype: int64"
            ]
          },
          "metadata": {},
          "execution_count": 84
        }
      ]
    },
    {
      "cell_type": "code",
      "source": [
        "x_tf = tdm_tfidf.toarray()\n",
        "x_tf_len = []\n",
        "for i in range(len(x_tf)):\n",
        "    a = x_tf[i]\n",
        "    a = np.append(a, np.log(df3['check_length'][i]+1)) # 길이 컬럼 추가\n",
        "\n",
        "    a = np.append(a, df3['파파야리프'][i])   \n",
        "    a = np.append(a, df3['고양이부엌'][i])    \n",
        "    a = np.append(a, df3['시골야채된장'][i])    \n",
        "    a = np.append(a, df3['을밀대'][i])    \n",
        "    a = np.append(a, df3['담소'][i])\n",
        "    a = np.append(a, df3['청류벽'][i])    \n",
        "    a = np.append(a, df3['기리야마'][i])\n",
        "    a = np.append(a, df3['신부자'][i])    \n",
        "    a = np.append(a, df3['시카고'][i])    \n",
        "    a = np.append(a, df3['대려도'][i])    \n",
        "    a = np.append(a, df3['봉추찜닭'][i])    \n",
        "    a = np.append(a, df3['리샨'][i])\n",
        "    a = np.append(a, df3['봉피양'][i])       \n",
        "    a = np.append(a, df3['Pavox'][i])    \n",
        "    a = np.append(a, df3['삼거리'][i])  \n",
        "\n",
        "    x_tf_len.append(a)"
      ],
      "metadata": {
        "id": "xh2zi13XbfnX"
      },
      "execution_count": 86,
      "outputs": []
    },
    {
      "cell_type": "markdown",
      "source": [
        "##### countvector 추가"
      ],
      "metadata": {
        "id": "XG9dffFwbfnY"
      }
    },
    {
      "cell_type": "code",
      "source": [
        "x_cv = tdm_cv.toarray() # TDM (countvector) 추가\n",
        "x_cv_len = []\n",
        "for i in range(len(x_cv)):\n",
        "    a = x_cv[i]\n",
        "    a = np.append(a,np.log(df3['check_length'][i]+1)) # 길이 컬럼 추가\n",
        "\n",
        "    a = np.append(a, df3['파파야리프'][i])   \n",
        "    a = np.append(a, df3['고양이부엌'][i])    \n",
        "    a = np.append(a, df3['시골야채된장'][i])    \n",
        "    a = np.append(a, df3['을밀대'][i])    \n",
        "    a = np.append(a, df3['담소'][i])\n",
        "    a = np.append(a, df3['청류벽'][i])    \n",
        "    a = np.append(a, df3['기리야마'][i])\n",
        "    a = np.append(a, df3['신부자'][i])    \n",
        "    a = np.append(a, df3['시카고'][i])    \n",
        "    a = np.append(a, df3['대려도'][i])    \n",
        "    a = np.append(a, df3['봉추찜닭'][i])    \n",
        "    a = np.append(a, df3['리샨'][i])\n",
        "    a = np.append(a, df3['봉피양'][i])       \n",
        "    a = np.append(a, df3['Pavox'][i])    \n",
        "    a = np.append(a, df3['삼거리'][i])  \n",
        " \n",
        "    a = np.append(a, df3['맛'][i])\n",
        "    a = np.append(a, df3['맛집'][i])\n",
        "    a = np.append(a, df3['메뉴_음식'][i])\n",
        "    a = np.append(a, df3['친절_직원'][i])\n",
        "    a = np.append(a, df3['때'][i])\n",
        "    a = np.append(a, df3['예약'][i])\n",
        "    a = np.append(a, df3['가격'][i])\n",
        "    a = np.append(a, df3['분위기'][i])\n",
        "    a = np.append(a, df3['추천'][i])  \n",
        "\n",
        "    x_cv_len.append(a)"
      ],
      "metadata": {
        "id": "ek9lAirpbfnY"
      },
      "execution_count": 87,
      "outputs": []
    },
    {
      "cell_type": "code",
      "source": [
        "len(x_tf_len[0]), len(x_cv_len[0])"
      ],
      "metadata": {
        "colab": {
          "base_uri": "https://localhost:8080/"
        },
        "outputId": "09af278d-0dd0-451c-aa2e-58686c07142f",
        "id": "SZ8PU4PxbfnY"
      },
      "execution_count": 88,
      "outputs": [
        {
          "output_type": "execute_result",
          "data": {
            "text/plain": [
              "(8256, 8265)"
            ]
          },
          "metadata": {},
          "execution_count": 88
        }
      ]
    },
    {
      "cell_type": "markdown",
      "source": [
        "##### y(target)"
      ],
      "metadata": {
        "id": "CsvP6mLtbfnZ"
      }
    },
    {
      "cell_type": "code",
      "source": [
        "y = df3['helpful']"
      ],
      "metadata": {
        "id": "aCJuE9pRbfnZ"
      },
      "execution_count": 89,
      "outputs": []
    },
    {
      "cell_type": "markdown",
      "source": [
        "##### 학습하기"
      ],
      "metadata": {
        "id": "wrgQzl-CbfnZ"
      }
    },
    {
      "cell_type": "code",
      "source": [
        "x_train, x_test, y_train, y_test = train_test_split(x_cv_len, y, test_size=0.2, random_state=42)"
      ],
      "metadata": {
        "id": "o2S6OiW7bfnZ"
      },
      "execution_count": 90,
      "outputs": []
    },
    {
      "cell_type": "code",
      "source": [
        "clf_cv = LogisticRegression(random_state = 42, C=0.1, max_iter = 100).fit(x_train,y_train)\n",
        "pred = clf_cv.predict(x_test)\n",
        "accuracy_score(y_test, pred)"
      ],
      "metadata": {
        "colab": {
          "base_uri": "https://localhost:8080/"
        },
        "outputId": "195c84ee-06b4-414f-956d-5665821881ca",
        "id": "BoGcpxtgbfnZ"
      },
      "execution_count": 91,
      "outputs": [
        {
          "output_type": "execute_result",
          "data": {
            "text/plain": [
              "0.9057851239669421"
            ]
          },
          "metadata": {},
          "execution_count": 91
        }
      ]
    },
    {
      "cell_type": "code",
      "source": [
        "x2_train, x2_test, y2_train, y2_test = train_test_split(x_tf_len, y, test_size=0.2, random_state=42)"
      ],
      "metadata": {
        "id": "Dc5bXjwhbfna"
      },
      "execution_count": 92,
      "outputs": []
    },
    {
      "cell_type": "code",
      "source": [
        "clf_tf = LogisticRegression(random_state = 42, C=0.1, max_iter = 100).fit(x2_train,y2_train)\n",
        "pred2 = clf_tf.predict(x2_test)\n",
        "accuracy_score(y2_test, pred2)"
      ],
      "metadata": {
        "colab": {
          "base_uri": "https://localhost:8080/"
        },
        "outputId": "25a754c7-2141-4978-fc72-6d266aee8e46",
        "id": "ERVAr07Cbfna"
      },
      "execution_count": 93,
      "outputs": [
        {
          "output_type": "execute_result",
          "data": {
            "text/plain": [
              "0.9074380165289256"
            ]
          },
          "metadata": {},
          "execution_count": 93
        }
      ]
    },
    {
      "cell_type": "markdown",
      "source": [
        "##### 결과\n",
        "- tf 그룹이 정확도 더 높음 (90.6% vs 90.7%)"
      ],
      "metadata": {
        "id": "AQEJnmHXbfna"
      }
    },
    {
      "cell_type": "markdown",
      "source": [
        "#### 4) df4 + lemma1"
      ],
      "metadata": {
        "id": "XK-HJJ0qcU5m"
      }
    },
    {
      "cell_type": "markdown",
      "source": [
        "##### tfidf, count Vector"
      ],
      "metadata": {
        "id": "4lPHFHvwcU5m"
      }
    },
    {
      "cell_type": "code",
      "source": [
        "tfidf = TfidfVectorizer(ngram_range=(1,2),tokenizer = getNVM_lemma1, preprocessor = None, lowercase = False)\n",
        "cv = CountVectorizer(ngram_range=(1,2),tokenizer = getNVM_lemma1, preprocessor = None, lowercase = False)\n",
        "tdm_tfidf = tfidf.fit_transform(df4['review_check'].values.astype('U'))\n",
        "tdm_cv= cv.fit_transform(df4['review_check'].values.astype('U'))"
      ],
      "metadata": {
        "id": "okDbwapscU5n"
      },
      "execution_count": 98,
      "outputs": []
    },
    {
      "cell_type": "markdown",
      "source": [
        "##### x (feature)"
      ],
      "metadata": {
        "id": "BLdqiGodcU5n"
      }
    },
    {
      "cell_type": "code",
      "source": [
        "df4['store_name'].value_counts()"
      ],
      "metadata": {
        "colab": {
          "base_uri": "https://localhost:8080/"
        },
        "outputId": "06acaf21-1ef6-4f2f-c759-1f7f9f0897e2",
        "id": "GNllnsyqcU5o"
      },
      "execution_count": 99,
      "outputs": [
        {
          "output_type": "execute_result",
          "data": {
            "text/plain": [
              "딘타이펑 강남점         1296\n",
              "백억하누 강남본점        1111\n",
              "느린마을양조장 강남점       624\n",
              "화기애애 강남역점         504\n",
              "라그릴리아 SPC스퀘어점     435\n",
              "강남진해장             424\n",
              "구스아일랜드 브루하우스      404\n",
              "오리지널시카고피자         183\n",
              "대려도               157\n",
              "봉추찜닭 강남주공공이점      131\n",
              "리샨 삼성타운점          112\n",
              "봉피양제주 강남점          71\n",
              "Pavox              29\n",
              "삼거리포차              26\n",
              "Name: store_name, dtype: int64"
            ]
          },
          "metadata": {},
          "execution_count": 99
        }
      ]
    },
    {
      "cell_type": "code",
      "source": [
        "x_tf = tdm_tfidf.toarray()\n",
        "x_tf_len = []\n",
        "for i in range(len(x_tf)):\n",
        "    a = x_tf[i]\n",
        "    a = np.append(a, np.log(df4['check_length'][i]+1)) # 길이 컬럼 추가\n",
        "\n",
        "    a = np.append(a, df4['딘타이펑'][i])    \n",
        "    a = np.append(a, df4['백억하누'][i])\n",
        "    a = np.append(a, df4['느린마을'][i])   \n",
        "    a = np.append(a, df4['화기애애'][i])    \n",
        "    a = np.append(a, df4['라그릴리아'][i])    \n",
        "    a = np.append(a, df4['강남진해장'][i])    \n",
        "    a = np.append(a, df4['구스'][i])   \n",
        "    a = np.append(a, df4['시카고'][i])    \n",
        "    a = np.append(a, df4['대려도'][i])    \n",
        "    a = np.append(a, df4['봉추찜닭'][i])    \n",
        "    a = np.append(a, df4['리샨'][i])\n",
        "    a = np.append(a, df4['봉피양'][i])       \n",
        "    a = np.append(a, df4['Pavox'][i])    \n",
        "    a = np.append(a, df4['삼거리'][i])  \n",
        "\n",
        "    x_tf_len.append(a)"
      ],
      "metadata": {
        "id": "Fhm7FaPWcU5p"
      },
      "execution_count": 100,
      "outputs": []
    },
    {
      "cell_type": "markdown",
      "source": [
        "##### countvector 추가"
      ],
      "metadata": {
        "id": "LBXguu8acU5q"
      }
    },
    {
      "cell_type": "code",
      "source": [
        "x_cv = tdm_cv.toarray() # TDM (countvector) 추가\n",
        "x_cv_len = []\n",
        "for i in range(len(x_cv)):\n",
        "    a = x_cv[i]\n",
        "    a = np.append(a,np.log(df4['check_length'][i]+1)) # 길이 컬럼 추가\n",
        "\n",
        "    a = np.append(a, df4['딘타이펑'][i])    \n",
        "    a = np.append(a, df4['백억하누'][i])\n",
        "    a = np.append(a, df4['느린마을'][i])   \n",
        "    a = np.append(a, df4['화기애애'][i])    \n",
        "    a = np.append(a, df4['라그릴리아'][i])    \n",
        "    a = np.append(a, df4['강남진해장'][i])    \n",
        "    a = np.append(a, df4['구스'][i])   \n",
        "    a = np.append(a, df4['시카고'][i])    \n",
        "    a = np.append(a, df4['대려도'][i])    \n",
        "    a = np.append(a, df4['봉추찜닭'][i])    \n",
        "    a = np.append(a, df4['리샨'][i])\n",
        "    a = np.append(a, df4['봉피양'][i])       \n",
        "    a = np.append(a, df4['Pavox'][i])    \n",
        "    a = np.append(a, df4['삼거리'][i])  \n",
        "\n",
        "    a = np.append(a, df4['맛'][i])\n",
        "    a = np.append(a, df4['맛집'][i])\n",
        "    a = np.append(a, df4['메뉴_음식'][i])\n",
        "    a = np.append(a, df4['친절_직원'][i])\n",
        "    a = np.append(a, df4['때'][i])\n",
        "    a = np.append(a, df4['예약'][i])\n",
        "    a = np.append(a, df4['가격'][i])\n",
        "    a = np.append(a, df4['분위기'][i])\n",
        "    a = np.append(a, df4['추천'][i])  \n",
        "\n",
        "    x_cv_len.append(a)"
      ],
      "metadata": {
        "id": "z_emOcGCcU5q"
      },
      "execution_count": 101,
      "outputs": []
    },
    {
      "cell_type": "code",
      "source": [
        "len(x_tf_len[0]), len(x_cv_len[0])"
      ],
      "metadata": {
        "colab": {
          "base_uri": "https://localhost:8080/"
        },
        "outputId": "82bfcafd-cd3f-4aff-9103-d1a880ed00be",
        "id": "5n8cRtDUcU5q"
      },
      "execution_count": 103,
      "outputs": [
        {
          "output_type": "execute_result",
          "data": {
            "text/plain": [
              "(15873, 15882)"
            ]
          },
          "metadata": {},
          "execution_count": 103
        }
      ]
    },
    {
      "cell_type": "markdown",
      "source": [
        "##### y(target)"
      ],
      "metadata": {
        "id": "uJ213y8McU5r"
      }
    },
    {
      "cell_type": "code",
      "source": [
        "y = df4['helpful']"
      ],
      "metadata": {
        "id": "hpw1CLPVcU5r"
      },
      "execution_count": 104,
      "outputs": []
    },
    {
      "cell_type": "markdown",
      "source": [
        "##### 학습하기"
      ],
      "metadata": {
        "id": "Sac_2n-icU5r"
      }
    },
    {
      "cell_type": "code",
      "source": [
        "x_train, x_test, y_train, y_test = train_test_split(x_cv_len, y, test_size=0.2, random_state=42)"
      ],
      "metadata": {
        "id": "CzdfDCXqcU5s"
      },
      "execution_count": 105,
      "outputs": []
    },
    {
      "cell_type": "code",
      "source": [
        "clf_cv = LogisticRegression(random_state = 42, C=0.1, max_iter = 100).fit(x_train,y_train)\n",
        "pred = clf_cv.predict(x_test)\n",
        "accuracy_score(y_test, pred)"
      ],
      "metadata": {
        "colab": {
          "base_uri": "https://localhost:8080/"
        },
        "outputId": "8b942d3b-860f-4fbb-bc76-ef5b67757411",
        "id": "Q1RhSkBpcU5t"
      },
      "execution_count": 106,
      "outputs": [
        {
          "output_type": "execute_result",
          "data": {
            "text/plain": [
              "0.8557168784029038"
            ]
          },
          "metadata": {},
          "execution_count": 106
        }
      ]
    },
    {
      "cell_type": "code",
      "source": [
        "x2_train, x2_test, y2_train, y2_test = train_test_split(x_tf_len, y, test_size=0.2, random_state=42)"
      ],
      "metadata": {
        "id": "6XdL8QIXcU5u"
      },
      "execution_count": 107,
      "outputs": []
    },
    {
      "cell_type": "code",
      "source": [
        "clf_tf = LogisticRegression(random_state = 42, C=0.1, max_iter = 100).fit(x2_train,y2_train)\n",
        "pred2 = clf_tf.predict(x2_test)\n",
        "accuracy_score(y2_test, pred2)"
      ],
      "metadata": {
        "colab": {
          "base_uri": "https://localhost:8080/"
        },
        "outputId": "a6f0b8c8-9b27-4f26-f27c-f4038d9b2d16",
        "id": "BWXJXrcgcU5v"
      },
      "execution_count": 108,
      "outputs": [
        {
          "output_type": "execute_result",
          "data": {
            "text/plain": [
              "0.8185117967332124"
            ]
          },
          "metadata": {},
          "execution_count": 108
        }
      ]
    },
    {
      "cell_type": "markdown",
      "source": [
        "##### 결과\n",
        "- countvector 추가한 그룹이 정확도 더 높음 (85.6% vs 81.9%)"
      ],
      "metadata": {
        "id": "eajOekH0cU5v"
      }
    },
    {
      "cell_type": "markdown",
      "source": [
        "#### lemma1(NNP, NNG) 정리 (cf vs tf)\n",
        "- df: 88% vs 85.9%\n",
        "- df2: 89.6% vs 86.3%\n",
        "- df3: 90.6% vs 90.7%\n",
        "- df4: 85.6% vs 81.9%\n",
        "---------------------\n",
        "- df: 모든 가게 있는 그룹\n",
        "- df2: 리뷰 개수가 제일 많은(1000개 이상되는) 식당 제거 그룹\n",
        "\t- 제거된 식당: 딘타이펑, 백억하누\n",
        "- df3: 리뷰 개수가 많은 상위 7개 식당 제거 그룹\n",
        "  - 제거된 식당: 딘타이펑, 백억하누, 느린마을양조장, 화기애애, 라그릴리아, 강남진해장, 구스아일랜드\n",
        "- df4: 리뷰 개수가 중간층에 있는 식당 8개 제거 그룹\n",
        "  - 제거된 식당: 파파야리프, 고양리부엌, 시골야채된장, 을밀대, 담소사골순대, 청류벽, 우동명가기리야마본진, 신부자식당"
      ],
      "metadata": {
        "id": "9pO2GQ5XdBV5"
      }
    }
  ]
}